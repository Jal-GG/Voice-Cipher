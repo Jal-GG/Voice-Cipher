{
 "cells": [
  {
   "cell_type": "markdown",
   "id": "cardiovascular-study",
   "metadata": {
    "id": "cardiovascular-study"
   },
   "source": [
    "#### Audio Classification Data Preprocessing"
   ]
  },
  {
   "cell_type": "code",
   "execution_count": 1,
   "id": "zR_GVdXul_8R",
   "metadata": {
    "id": "zR_GVdXul_8R"
   },
   "outputs": [
    {
     "ename": "ModuleNotFoundError",
     "evalue": "No module named 'google'",
     "output_type": "error",
     "traceback": [
      "\u001b[1;31m---------------------------------------------------------------------------\u001b[0m",
      "\u001b[1;31mModuleNotFoundError\u001b[0m                       Traceback (most recent call last)",
      "Cell \u001b[1;32mIn[1], line 1\u001b[0m\n\u001b[1;32m----> 1\u001b[0m \u001b[38;5;28;01mfrom\u001b[39;00m \u001b[38;5;21;01mgoogle\u001b[39;00m\u001b[38;5;21;01m.\u001b[39;00m\u001b[38;5;21;01mcolab\u001b[39;00m \u001b[38;5;28;01mimport\u001b[39;00m drive\n",
      "\u001b[1;31mModuleNotFoundError\u001b[0m: No module named 'google'"
     ]
    }
   ],
   "source": [
    "from google.colab import drive"
   ]
  },
  {
   "cell_type": "code",
   "execution_count": 2,
   "id": "GjLdx6PkmMbp",
   "metadata": {
    "colab": {
     "base_uri": "https://localhost:8080/"
    },
    "executionInfo": {
     "elapsed": 21131,
     "status": "ok",
     "timestamp": 1695532310861,
     "user": {
      "displayName": "Prit Chavda",
      "userId": "08447455138167255488"
     },
     "user_tz": -330
    },
    "id": "GjLdx6PkmMbp",
    "outputId": "e7dd533e-6e48-49cb-f6a2-2273478106a0"
   },
   "outputs": [
    {
     "ename": "NameError",
     "evalue": "name 'drive' is not defined",
     "output_type": "error",
     "traceback": [
      "\u001b[1;31m---------------------------------------------------------------------------\u001b[0m",
      "\u001b[1;31mNameError\u001b[0m                                 Traceback (most recent call last)",
      "Cell \u001b[1;32mIn[2], line 1\u001b[0m\n\u001b[1;32m----> 1\u001b[0m drive\u001b[38;5;241m.\u001b[39mmount(\u001b[38;5;124m'\u001b[39m\u001b[38;5;124m/content/drive\u001b[39m\u001b[38;5;124m'\u001b[39m)\n",
      "\u001b[1;31mNameError\u001b[0m: name 'drive' is not defined"
     ]
    }
   ],
   "source": [
    "drive.mount('/content/drive')"
   ]
  },
  {
   "cell_type": "code",
   "execution_count": 3,
   "id": "6541353b",
   "metadata": {
    "id": "6541353b",
    "outputId": "4c9777ab-7351-4ab2-fbec-d57ac548c0b8"
   },
   "outputs": [
    {
     "name": "stdout",
     "output_type": "stream",
     "text": [
      "Defaulting to user installation because normal site-packages is not writeable\n",
      "Requirement already satisfied: jovian in c:\\users\\pritk\\appdata\\roaming\\python\\python311\\site-packages (0.2.47)\n",
      "Requirement already satisfied: requests in c:\\programdata\\anaconda3\\lib\\site-packages (from jovian) (2.31.0)\n",
      "Requirement already satisfied: uuid in c:\\users\\pritk\\appdata\\roaming\\python\\python311\\site-packages (from jovian) (1.30)\n",
      "Requirement already satisfied: pyyaml in c:\\programdata\\anaconda3\\lib\\site-packages (from jovian) (6.0)\n",
      "Requirement already satisfied: click in c:\\programdata\\anaconda3\\lib\\site-packages (from jovian) (8.0.4)\n",
      "Requirement already satisfied: colorama in c:\\programdata\\anaconda3\\lib\\site-packages (from click->jovian) (0.4.6)\n",
      "Requirement already satisfied: charset-normalizer<4,>=2 in c:\\programdata\\anaconda3\\lib\\site-packages (from requests->jovian) (2.0.4)\n",
      "Requirement already satisfied: idna<4,>=2.5 in c:\\programdata\\anaconda3\\lib\\site-packages (from requests->jovian) (3.4)\n",
      "Requirement already satisfied: urllib3<3,>=1.21.1 in c:\\programdata\\anaconda3\\lib\\site-packages (from requests->jovian) (1.26.16)\n",
      "Requirement already satisfied: certifi>=2017.4.17 in c:\\programdata\\anaconda3\\lib\\site-packages (from requests->jovian) (2023.7.22)\n"
     ]
    }
   ],
   "source": [
    "!pip install jovian --upgrade"
   ]
  },
  {
   "cell_type": "code",
   "execution_count": 4,
   "id": "5faa67c4",
   "metadata": {
    "id": "5faa67c4",
    "outputId": "bb570d17-8910-4db8-e72e-31dbd032d29c"
   },
   "outputs": [
    {
     "name": "stdout",
     "output_type": "stream",
     "text": [
      "Defaulting to user installation because normal site-packages is not writeable\n",
      "Requirement already satisfied: librosa in c:\\users\\pritk\\appdata\\roaming\\python\\python311\\site-packages (0.8.1)\n",
      "Requirement already satisfied: audioread>=2.0.0 in c:\\users\\pritk\\appdata\\roaming\\python\\python311\\site-packages (from librosa) (3.0.0)\n",
      "Requirement already satisfied: numpy>=1.15.0 in c:\\programdata\\anaconda3\\lib\\site-packages (from librosa) (1.24.3)\n",
      "Requirement already satisfied: scipy>=1.0.0 in c:\\programdata\\anaconda3\\lib\\site-packages (from librosa) (1.10.1)\n",
      "Requirement already satisfied: scikit-learn!=0.19.0,>=0.14.0 in c:\\programdata\\anaconda3\\lib\\site-packages (from librosa) (1.3.0)\n",
      "Requirement already satisfied: joblib>=0.14 in c:\\programdata\\anaconda3\\lib\\site-packages (from librosa) (1.2.0)\n",
      "Requirement already satisfied: decorator>=3.0.0 in c:\\programdata\\anaconda3\\lib\\site-packages (from librosa) (5.1.1)\n",
      "Requirement already satisfied: resampy>=0.2.2 in c:\\users\\pritk\\appdata\\roaming\\python\\python311\\site-packages (from librosa) (0.2.2)\n",
      "Requirement already satisfied: numba>=0.43.0 in c:\\programdata\\anaconda3\\lib\\site-packages (from librosa) (0.57.0)\n",
      "Requirement already satisfied: soundfile>=0.10.2 in c:\\users\\pritk\\appdata\\roaming\\python\\python311\\site-packages (from librosa) (0.12.1)\n",
      "Requirement already satisfied: pooch>=1.0 in c:\\programdata\\anaconda3\\lib\\site-packages (from librosa) (1.4.0)\n",
      "Requirement already satisfied: packaging>=20.0 in c:\\programdata\\anaconda3\\lib\\site-packages (from librosa) (23.0)\n",
      "Requirement already satisfied: llvmlite<0.41,>=0.40.0dev0 in c:\\programdata\\anaconda3\\lib\\site-packages (from numba>=0.43.0->librosa) (0.40.0)\n",
      "Requirement already satisfied: requests in c:\\programdata\\anaconda3\\lib\\site-packages (from pooch>=1.0->librosa) (2.31.0)\n",
      "Requirement already satisfied: appdirs in c:\\programdata\\anaconda3\\lib\\site-packages (from pooch>=1.0->librosa) (1.4.4)\n",
      "Requirement already satisfied: six>=1.3 in c:\\programdata\\anaconda3\\lib\\site-packages (from resampy>=0.2.2->librosa) (1.16.0)\n",
      "Requirement already satisfied: threadpoolctl>=2.0.0 in c:\\programdata\\anaconda3\\lib\\site-packages (from scikit-learn!=0.19.0,>=0.14.0->librosa) (2.2.0)\n",
      "Requirement already satisfied: cffi>=1.0 in c:\\programdata\\anaconda3\\lib\\site-packages (from soundfile>=0.10.2->librosa) (1.15.1)\n",
      "Requirement already satisfied: pycparser in c:\\programdata\\anaconda3\\lib\\site-packages (from cffi>=1.0->soundfile>=0.10.2->librosa) (2.21)\n",
      "Requirement already satisfied: charset-normalizer<4,>=2 in c:\\programdata\\anaconda3\\lib\\site-packages (from requests->pooch>=1.0->librosa) (2.0.4)\n",
      "Requirement already satisfied: idna<4,>=2.5 in c:\\programdata\\anaconda3\\lib\\site-packages (from requests->pooch>=1.0->librosa) (3.4)\n",
      "Requirement already satisfied: urllib3<3,>=1.21.1 in c:\\programdata\\anaconda3\\lib\\site-packages (from requests->pooch>=1.0->librosa) (1.26.16)\n",
      "Requirement already satisfied: certifi>=2017.4.17 in c:\\programdata\\anaconda3\\lib\\site-packages (from requests->pooch>=1.0->librosa) (2023.7.22)\n"
     ]
    }
   ],
   "source": [
    "import jovian\n",
    "!pip install librosa"
   ]
  },
  {
   "cell_type": "code",
   "execution_count": 5,
   "id": "boxed-central",
   "metadata": {
    "executionInfo": {
     "elapsed": 444,
     "status": "ok",
     "timestamp": 1695537484134,
     "user": {
      "displayName": "Prit Chavda",
      "userId": "08447455138167255488"
     },
     "user_tz": -330
    },
    "id": "boxed-central"
   },
   "outputs": [
    {
     "name": "stderr",
     "output_type": "stream",
     "text": [
      "C:\\ProgramData\\anaconda3\\Lib\\site-packages\\paramiko\\transport.py:219: CryptographyDeprecationWarning: Blowfish has been deprecated\n",
      "  \"class\": algorithms.Blowfish,\n"
     ]
    },
    {
     "ename": "AttributeError",
     "evalue": "module 'numpy' has no attribute 'complex'.\n`np.complex` was a deprecated alias for the builtin `complex`. To avoid this error in existing code, use `complex` by itself. Doing this will not modify any behavior and is safe. If you specifically wanted the numpy scalar type, use `np.complex128` here.\nThe aliases was originally deprecated in NumPy 1.20; for more details and guidance see the original release note at:\n    https://numpy.org/devdocs/release/1.20.0-notes.html#deprecations",
     "output_type": "error",
     "traceback": [
      "\u001b[1;31m---------------------------------------------------------------------------\u001b[0m",
      "\u001b[1;31mAttributeError\u001b[0m                            Traceback (most recent call last)",
      "Cell \u001b[1;32mIn[5], line 2\u001b[0m\n\u001b[0;32m      1\u001b[0m \u001b[38;5;66;03m### Let's read a sample audio using librosa\u001b[39;00m\n\u001b[1;32m----> 2\u001b[0m \u001b[38;5;28;01mimport\u001b[39;00m \u001b[38;5;21;01mlibrosa\u001b[39;00m\n\u001b[0;32m      3\u001b[0m audio_file_path\u001b[38;5;241m=\u001b[39m\u001b[38;5;124m'\u001b[39m\u001b[38;5;124m/content/drive/MyDrive/Audio-Classification-main/prit.wav\u001b[39m\u001b[38;5;124m'\u001b[39m\n\u001b[0;32m      4\u001b[0m \u001b[38;5;66;03m# audio_file_path='/content/drive/MyDrive/Audio-Classification-main/UrbanSound8K/audio/fold10/115418-9-0-11.wav'\u001b[39;00m\n",
      "File \u001b[1;32m~\\AppData\\Roaming\\Python\\Python311\\site-packages\\librosa\\__init__.py:211\u001b[0m\n\u001b[0;32m    209\u001b[0m \u001b[38;5;66;03m# And all the librosa sub-modules\u001b[39;00m\n\u001b[0;32m    210\u001b[0m \u001b[38;5;28;01mfrom\u001b[39;00m \u001b[38;5;21;01m.\u001b[39;00m\u001b[38;5;21;01m_cache\u001b[39;00m \u001b[38;5;28;01mimport\u001b[39;00m cache\n\u001b[1;32m--> 211\u001b[0m \u001b[38;5;28;01mfrom\u001b[39;00m \u001b[38;5;21;01m.\u001b[39;00m \u001b[38;5;28;01mimport\u001b[39;00m core\n\u001b[0;32m    212\u001b[0m \u001b[38;5;28;01mfrom\u001b[39;00m \u001b[38;5;21;01m.\u001b[39;00m \u001b[38;5;28;01mimport\u001b[39;00m beat\n\u001b[0;32m    213\u001b[0m \u001b[38;5;28;01mfrom\u001b[39;00m \u001b[38;5;21;01m.\u001b[39;00m \u001b[38;5;28;01mimport\u001b[39;00m decompose\n",
      "File \u001b[1;32m~\\AppData\\Roaming\\Python\\Python311\\site-packages\\librosa\\core\\__init__.py:9\u001b[0m\n\u001b[0;32m      7\u001b[0m \u001b[38;5;28;01mfrom\u001b[39;00m \u001b[38;5;21;01m.\u001b[39;00m\u001b[38;5;21;01mspectrum\u001b[39;00m \u001b[38;5;28;01mimport\u001b[39;00m \u001b[38;5;241m*\u001b[39m  \u001b[38;5;66;03m# pylint: disable=wildcard-import\u001b[39;00m\n\u001b[0;32m      8\u001b[0m \u001b[38;5;28;01mfrom\u001b[39;00m \u001b[38;5;21;01m.\u001b[39;00m\u001b[38;5;21;01mpitch\u001b[39;00m \u001b[38;5;28;01mimport\u001b[39;00m \u001b[38;5;241m*\u001b[39m  \u001b[38;5;66;03m# pylint: disable=wildcard-import\u001b[39;00m\n\u001b[1;32m----> 9\u001b[0m \u001b[38;5;28;01mfrom\u001b[39;00m \u001b[38;5;21;01m.\u001b[39;00m\u001b[38;5;21;01mconstantq\u001b[39;00m \u001b[38;5;28;01mimport\u001b[39;00m \u001b[38;5;241m*\u001b[39m  \u001b[38;5;66;03m# pylint: disable=wildcard-import\u001b[39;00m\n\u001b[0;32m     10\u001b[0m \u001b[38;5;28;01mfrom\u001b[39;00m \u001b[38;5;21;01m.\u001b[39;00m\u001b[38;5;21;01mharmonic\u001b[39;00m \u001b[38;5;28;01mimport\u001b[39;00m \u001b[38;5;241m*\u001b[39m  \u001b[38;5;66;03m# pylint: disable=wildcard-import\u001b[39;00m\n\u001b[0;32m     11\u001b[0m \u001b[38;5;28;01mfrom\u001b[39;00m \u001b[38;5;21;01m.\u001b[39;00m\u001b[38;5;21;01mfft\u001b[39;00m \u001b[38;5;28;01mimport\u001b[39;00m \u001b[38;5;241m*\u001b[39m  \u001b[38;5;66;03m# pylint: disable=wildcard-import\u001b[39;00m\n",
      "File \u001b[1;32m~\\AppData\\Roaming\\Python\\Python311\\site-packages\\librosa\\core\\constantq.py:1059\u001b[0m\n\u001b[0;32m   1042\u001b[0m         V \u001b[38;5;241m/\u001b[39m\u001b[38;5;241m=\u001b[39m np\u001b[38;5;241m.\u001b[39msqrt(lengths[:, np\u001b[38;5;241m.\u001b[39mnewaxis])\n\u001b[0;32m   1044\u001b[0m     \u001b[38;5;28;01mreturn\u001b[39;00m V\n\u001b[0;32m   1047\u001b[0m \u001b[38;5;129m@cache\u001b[39m(level\u001b[38;5;241m=\u001b[39m\u001b[38;5;241m10\u001b[39m)\n\u001b[0;32m   1048\u001b[0m \u001b[38;5;28;01mdef\u001b[39;00m \u001b[38;5;21m__cqt_filter_fft\u001b[39m(\n\u001b[0;32m   1049\u001b[0m     sr,\n\u001b[0;32m   1050\u001b[0m     fmin,\n\u001b[0;32m   1051\u001b[0m     n_bins,\n\u001b[0;32m   1052\u001b[0m     bins_per_octave,\n\u001b[0;32m   1053\u001b[0m     filter_scale,\n\u001b[0;32m   1054\u001b[0m     norm,\n\u001b[0;32m   1055\u001b[0m     sparsity,\n\u001b[0;32m   1056\u001b[0m     hop_length\u001b[38;5;241m=\u001b[39m\u001b[38;5;28;01mNone\u001b[39;00m,\n\u001b[0;32m   1057\u001b[0m     window\u001b[38;5;241m=\u001b[39m\u001b[38;5;124m\"\u001b[39m\u001b[38;5;124mhann\u001b[39m\u001b[38;5;124m\"\u001b[39m,\n\u001b[0;32m   1058\u001b[0m     gamma\u001b[38;5;241m=\u001b[39m\u001b[38;5;241m0.0\u001b[39m,\n\u001b[1;32m-> 1059\u001b[0m     dtype\u001b[38;5;241m=\u001b[39mnp\u001b[38;5;241m.\u001b[39mcomplex,\n\u001b[0;32m   1060\u001b[0m ):\n\u001b[0;32m   1061\u001b[0m \u001b[38;5;250m    \u001b[39m\u001b[38;5;124;03m\"\"\"Generate the frequency domain constant-Q filter basis.\"\"\"\u001b[39;00m\n\u001b[0;32m   1063\u001b[0m     basis, lengths \u001b[38;5;241m=\u001b[39m filters\u001b[38;5;241m.\u001b[39mconstant_q(\n\u001b[0;32m   1064\u001b[0m         sr,\n\u001b[0;32m   1065\u001b[0m         fmin\u001b[38;5;241m=\u001b[39mfmin,\n\u001b[1;32m   (...)\u001b[0m\n\u001b[0;32m   1072\u001b[0m         gamma\u001b[38;5;241m=\u001b[39mgamma,\n\u001b[0;32m   1073\u001b[0m     )\n",
      "File \u001b[1;32mC:\\ProgramData\\anaconda3\\Lib\\site-packages\\numpy\\__init__.py:305\u001b[0m, in \u001b[0;36m__getattr__\u001b[1;34m(attr)\u001b[0m\n\u001b[0;32m    300\u001b[0m     warnings\u001b[38;5;241m.\u001b[39mwarn(\n\u001b[0;32m    301\u001b[0m         \u001b[38;5;124mf\u001b[39m\u001b[38;5;124m\"\u001b[39m\u001b[38;5;124mIn the future `np.\u001b[39m\u001b[38;5;132;01m{\u001b[39;00mattr\u001b[38;5;132;01m}\u001b[39;00m\u001b[38;5;124m` will be defined as the \u001b[39m\u001b[38;5;124m\"\u001b[39m\n\u001b[0;32m    302\u001b[0m         \u001b[38;5;124m\"\u001b[39m\u001b[38;5;124mcorresponding NumPy scalar.\u001b[39m\u001b[38;5;124m\"\u001b[39m, \u001b[38;5;167;01mFutureWarning\u001b[39;00m, stacklevel\u001b[38;5;241m=\u001b[39m\u001b[38;5;241m2\u001b[39m)\n\u001b[0;32m    304\u001b[0m \u001b[38;5;28;01mif\u001b[39;00m attr \u001b[38;5;129;01min\u001b[39;00m __former_attrs__:\n\u001b[1;32m--> 305\u001b[0m     \u001b[38;5;28;01mraise\u001b[39;00m \u001b[38;5;167;01mAttributeError\u001b[39;00m(__former_attrs__[attr])\n\u001b[0;32m    307\u001b[0m \u001b[38;5;66;03m# Importing Tester requires importing all of UnitTest which is not a\u001b[39;00m\n\u001b[0;32m    308\u001b[0m \u001b[38;5;66;03m# cheap import Since it is mainly used in test suits, we lazy import it\u001b[39;00m\n\u001b[0;32m    309\u001b[0m \u001b[38;5;66;03m# here to save on the order of 10 ms of import time for most users\u001b[39;00m\n\u001b[0;32m    310\u001b[0m \u001b[38;5;66;03m#\u001b[39;00m\n\u001b[0;32m    311\u001b[0m \u001b[38;5;66;03m# The previous way Tester was imported also had a side effect of adding\u001b[39;00m\n\u001b[0;32m    312\u001b[0m \u001b[38;5;66;03m# the full `numpy.testing` namespace\u001b[39;00m\n\u001b[0;32m    313\u001b[0m \u001b[38;5;28;01mif\u001b[39;00m attr \u001b[38;5;241m==\u001b[39m \u001b[38;5;124m'\u001b[39m\u001b[38;5;124mtesting\u001b[39m\u001b[38;5;124m'\u001b[39m:\n",
      "\u001b[1;31mAttributeError\u001b[0m: module 'numpy' has no attribute 'complex'.\n`np.complex` was a deprecated alias for the builtin `complex`. To avoid this error in existing code, use `complex` by itself. Doing this will not modify any behavior and is safe. If you specifically wanted the numpy scalar type, use `np.complex128` here.\nThe aliases was originally deprecated in NumPy 1.20; for more details and guidance see the original release note at:\n    https://numpy.org/devdocs/release/1.20.0-notes.html#deprecations"
     ]
    }
   ],
   "source": [
    "### Let's read a sample audio using librosa\n",
    "import librosa\n",
    "audio_file_path='/content/drive/MyDrive/Audio-Classification-main/prit.wav'\n",
    "# audio_file_path='/content/drive/MyDrive/Audio-Classification-main/UrbanSound8K/audio/fold10/115418-9-0-11.wav'\n",
    "librosa_audio_data,librosa_sample_rate=librosa.load(audio_file_path)"
   ]
  },
  {
   "cell_type": "code",
   "execution_count": 6,
   "id": "variable-airline",
   "metadata": {
    "colab": {
     "base_uri": "https://localhost:8080/"
    },
    "executionInfo": {
     "elapsed": 462,
     "status": "ok",
     "timestamp": 1695533038535,
     "user": {
      "displayName": "Prit Chavda",
      "userId": "08447455138167255488"
     },
     "user_tz": -330
    },
    "id": "variable-airline",
    "outputId": "ca3d87d1-c278-4cc8-e6ca-e1a50e84845d"
   },
   "outputs": [
    {
     "ename": "NameError",
     "evalue": "name 'librosa_audio_data' is not defined",
     "output_type": "error",
     "traceback": [
      "\u001b[1;31m---------------------------------------------------------------------------\u001b[0m",
      "\u001b[1;31mNameError\u001b[0m                                 Traceback (most recent call last)",
      "Cell \u001b[1;32mIn[6], line 1\u001b[0m\n\u001b[1;32m----> 1\u001b[0m \u001b[38;5;28mprint\u001b[39m(librosa_audio_data)\n",
      "\u001b[1;31mNameError\u001b[0m: name 'librosa_audio_data' is not defined"
     ]
    }
   ],
   "source": [
    "print(librosa_audio_data)"
   ]
  },
  {
   "cell_type": "code",
   "execution_count": 7,
   "id": "swedish-minute",
   "metadata": {
    "colab": {
     "base_uri": "https://localhost:8080/",
     "height": 385
    },
    "executionInfo": {
     "elapsed": 1149,
     "status": "ok",
     "timestamp": 1695533042177,
     "user": {
      "displayName": "Prit Chavda",
      "userId": "08447455138167255488"
     },
     "user_tz": -330
    },
    "id": "swedish-minute",
    "outputId": "c9643173-7665-4b3c-fc49-22da62f30e32"
   },
   "outputs": [
    {
     "ename": "NameError",
     "evalue": "name 'librosa_audio_data' is not defined",
     "output_type": "error",
     "traceback": [
      "\u001b[1;31m---------------------------------------------------------------------------\u001b[0m",
      "\u001b[1;31mNameError\u001b[0m                                 Traceback (most recent call last)",
      "Cell \u001b[1;32mIn[7], line 5\u001b[0m\n\u001b[0;32m      3\u001b[0m \u001b[38;5;66;03m# Original audio with 1 channel\u001b[39;00m\n\u001b[0;32m      4\u001b[0m plt\u001b[38;5;241m.\u001b[39mfigure(figsize\u001b[38;5;241m=\u001b[39m(\u001b[38;5;241m12\u001b[39m, \u001b[38;5;241m4\u001b[39m))\n\u001b[1;32m----> 5\u001b[0m plt\u001b[38;5;241m.\u001b[39mplot(librosa_audio_data)\n",
      "\u001b[1;31mNameError\u001b[0m: name 'librosa_audio_data' is not defined"
     ]
    },
    {
     "data": {
      "text/plain": [
       "<Figure size 1200x400 with 0 Axes>"
      ]
     },
     "metadata": {},
     "output_type": "display_data"
    }
   ],
   "source": [
    "### Lets plot the librosa audio data\n",
    "import matplotlib.pyplot as plt\n",
    "# Original audio with 1 channel\n",
    "plt.figure(figsize=(12, 4))\n",
    "plt.plot(librosa_audio_data)"
   ]
  },
  {
   "cell_type": "markdown",
   "id": "comparative-ontario",
   "metadata": {
    "id": "comparative-ontario"
   },
   "source": [
    "#### Observation\n",
    "Here Librosa converts the signal to mono, meaning the channel will alays be 1"
   ]
  },
  {
   "cell_type": "code",
   "execution_count": 8,
   "id": "norman-producer",
   "metadata": {
    "id": "norman-producer"
   },
   "outputs": [
    {
     "ename": "NameError",
     "evalue": "name 'audio_file_path' is not defined",
     "output_type": "error",
     "traceback": [
      "\u001b[1;31m---------------------------------------------------------------------------\u001b[0m",
      "\u001b[1;31mNameError\u001b[0m                                 Traceback (most recent call last)",
      "Cell \u001b[1;32mIn[8], line 3\u001b[0m\n\u001b[0;32m      1\u001b[0m \u001b[38;5;66;03m### Lets read with scipy\u001b[39;00m\n\u001b[0;32m      2\u001b[0m \u001b[38;5;28;01mfrom\u001b[39;00m \u001b[38;5;21;01mscipy\u001b[39;00m\u001b[38;5;21;01m.\u001b[39;00m\u001b[38;5;21;01mio\u001b[39;00m \u001b[38;5;28;01mimport\u001b[39;00m wavfile \u001b[38;5;28;01mas\u001b[39;00m wav\n\u001b[1;32m----> 3\u001b[0m wave_sample_rate, wave_audio \u001b[38;5;241m=\u001b[39m wav\u001b[38;5;241m.\u001b[39mread(audio_file_path)\n",
      "\u001b[1;31mNameError\u001b[0m: name 'audio_file_path' is not defined"
     ]
    }
   ],
   "source": [
    "### Lets read with scipy\n",
    "from scipy.io import wavfile as wav\n",
    "wave_sample_rate, wave_audio = wav.read(audio_file_path)"
   ]
  },
  {
   "cell_type": "code",
   "execution_count": 9,
   "id": "acting-functionality",
   "metadata": {
    "colab": {
     "base_uri": "https://localhost:8080/"
    },
    "executionInfo": {
     "elapsed": 14,
     "status": "ok",
     "timestamp": 1695533057097,
     "user": {
      "displayName": "Prit Chavda",
      "userId": "08447455138167255488"
     },
     "user_tz": -330
    },
    "id": "acting-functionality",
    "outputId": "dc0d502f-3502-4476-d0a2-c712c94c649e"
   },
   "outputs": [
    {
     "ename": "NameError",
     "evalue": "name 'wave_audio' is not defined",
     "output_type": "error",
     "traceback": [
      "\u001b[1;31m---------------------------------------------------------------------------\u001b[0m",
      "\u001b[1;31mNameError\u001b[0m                                 Traceback (most recent call last)",
      "Cell \u001b[1;32mIn[9], line 1\u001b[0m\n\u001b[1;32m----> 1\u001b[0m wave_audio\n",
      "\u001b[1;31mNameError\u001b[0m: name 'wave_audio' is not defined"
     ]
    }
   ],
   "source": [
    "wave_audio"
   ]
  },
  {
   "cell_type": "code",
   "execution_count": 10,
   "id": "pressing-college",
   "metadata": {
    "colab": {
     "base_uri": "https://localhost:8080/",
     "height": 403
    },
    "executionInfo": {
     "elapsed": 33,
     "status": "ok",
     "timestamp": 1695533061405,
     "user": {
      "displayName": "Prit Chavda",
      "userId": "08447455138167255488"
     },
     "user_tz": -330
    },
    "id": "pressing-college",
    "outputId": "7bbb1825-a9c4-44d3-ec27-90cbb09641d6"
   },
   "outputs": [
    {
     "ename": "NameError",
     "evalue": "name 'wave_audio' is not defined",
     "output_type": "error",
     "traceback": [
      "\u001b[1;31m---------------------------------------------------------------------------\u001b[0m",
      "\u001b[1;31mNameError\u001b[0m                                 Traceback (most recent call last)",
      "Cell \u001b[1;32mIn[10], line 5\u001b[0m\n\u001b[0;32m      3\u001b[0m \u001b[38;5;66;03m# Original audio with 2 channels\u001b[39;00m\n\u001b[0;32m      4\u001b[0m plt\u001b[38;5;241m.\u001b[39mfigure(figsize\u001b[38;5;241m=\u001b[39m(\u001b[38;5;241m12\u001b[39m, \u001b[38;5;241m4\u001b[39m))\n\u001b[1;32m----> 5\u001b[0m plt\u001b[38;5;241m.\u001b[39mplot(wave_audio)\n",
      "\u001b[1;31mNameError\u001b[0m: name 'wave_audio' is not defined"
     ]
    },
    {
     "data": {
      "text/plain": [
       "<Figure size 1200x400 with 0 Axes>"
      ]
     },
     "metadata": {},
     "output_type": "display_data"
    }
   ],
   "source": [
    "import matplotlib.pyplot as plt\n",
    "\n",
    "# Original audio with 2 channels\n",
    "plt.figure(figsize=(12, 4))\n",
    "plt.plot(wave_audio)"
   ]
  },
  {
   "cell_type": "markdown",
   "id": "applicable-priest",
   "metadata": {
    "id": "applicable-priest"
   },
   "source": [
    "### Extract Features\n",
    "Here we will be using Mel-Frequency Cepstral Coefficients(MFCC) from the audio\n",
    "samples.\n",
    "The MFCC summarises the frequency distribution across the window size, so it is possible to analyse both the frequency and time characteristics of the sound. These audio representations will allow us to identify features for classification."
   ]
  },
  {
   "cell_type": "code",
   "execution_count": 11,
   "id": "chinese-north",
   "metadata": {
    "colab": {
     "base_uri": "https://localhost:8080/"
    },
    "executionInfo": {
     "elapsed": 2494,
     "status": "ok",
     "timestamp": 1695533067988,
     "user": {
      "displayName": "Prit Chavda",
      "userId": "08447455138167255488"
     },
     "user_tz": -330
    },
    "id": "chinese-north",
    "outputId": "516a4e16-2286-45ae-b424-1efbfe55fe7f"
   },
   "outputs": [
    {
     "ename": "NameError",
     "evalue": "name 'librosa' is not defined",
     "output_type": "error",
     "traceback": [
      "\u001b[1;31m---------------------------------------------------------------------------\u001b[0m",
      "\u001b[1;31mNameError\u001b[0m                                 Traceback (most recent call last)",
      "Cell \u001b[1;32mIn[11], line 1\u001b[0m\n\u001b[1;32m----> 1\u001b[0m mfccs \u001b[38;5;241m=\u001b[39m librosa\u001b[38;5;241m.\u001b[39mfeature\u001b[38;5;241m.\u001b[39mmfcc(y\u001b[38;5;241m=\u001b[39mlibrosa_audio_data, sr\u001b[38;5;241m=\u001b[39mlibrosa_sample_rate, n_mfcc\u001b[38;5;241m=\u001b[39m\u001b[38;5;241m40\u001b[39m)\n\u001b[0;32m      2\u001b[0m \u001b[38;5;28mprint\u001b[39m(mfccs\u001b[38;5;241m.\u001b[39mshape)\n",
      "\u001b[1;31mNameError\u001b[0m: name 'librosa' is not defined"
     ]
    }
   ],
   "source": [
    "mfccs = librosa.feature.mfcc(y=librosa_audio_data, sr=librosa_sample_rate, n_mfcc=40)\n",
    "print(mfccs.shape)"
   ]
  },
  {
   "cell_type": "code",
   "execution_count": 12,
   "id": "sporting-freeware",
   "metadata": {
    "colab": {
     "base_uri": "https://localhost:8080/"
    },
    "executionInfo": {
     "elapsed": 459,
     "status": "ok",
     "timestamp": 1695533071776,
     "user": {
      "displayName": "Prit Chavda",
      "userId": "08447455138167255488"
     },
     "user_tz": -330
    },
    "id": "sporting-freeware",
    "outputId": "70341f4a-4804-4da7-ee65-6c5360054a86"
   },
   "outputs": [
    {
     "ename": "NameError",
     "evalue": "name 'mfccs' is not defined",
     "output_type": "error",
     "traceback": [
      "\u001b[1;31m---------------------------------------------------------------------------\u001b[0m",
      "\u001b[1;31mNameError\u001b[0m                                 Traceback (most recent call last)",
      "Cell \u001b[1;32mIn[12], line 1\u001b[0m\n\u001b[1;32m----> 1\u001b[0m mfccs\n",
      "\u001b[1;31mNameError\u001b[0m: name 'mfccs' is not defined"
     ]
    }
   ],
   "source": [
    "mfccs"
   ]
  },
  {
   "cell_type": "code",
   "execution_count": 46,
   "id": "oOjtTcSj8bx_",
   "metadata": {
    "colab": {
     "base_uri": "https://localhost:8080/"
    },
    "executionInfo": {
     "elapsed": 1865,
     "status": "ok",
     "timestamp": 1695543771920,
     "user": {
      "displayName": "Prit Chavda",
      "userId": "08447455138167255488"
     },
     "user_tz": -330
    },
    "id": "oOjtTcSj8bx_",
    "outputId": "87c64966-5aae-4da0-df19-3fe916a55ce3"
   },
   "outputs": [
    {
     "name": "stdout",
     "output_type": "stream",
     "text": [
      "Sample rate: 48000\n"
     ]
    }
   ],
   "source": [
    "import librosa\n",
    "\n",
    "# Load an audio file\n",
    "audio_file = '/content/drive/MyDrive/Audio-Classification-main/prit.wav'\n",
    "y, sr = librosa.load(audio_file, sr=None)  # Use sr=None to preserve the original sample rate\n",
    "\n",
    "# 'sr' contains the sample rate of the loaded audio\n",
    "print(\"Sample rate:\", sr)\n"
   ]
  },
  {
   "cell_type": "code",
   "execution_count": 44,
   "id": "Jue6Hd-Q8YIm",
   "metadata": {
    "colab": {
     "base_uri": "https://localhost:8080/"
    },
    "executionInfo": {
     "elapsed": 459,
     "status": "ok",
     "timestamp": 1695538104415,
     "user": {
      "displayName": "Prit Chavda",
      "userId": "08447455138167255488"
     },
     "user_tz": -330
    },
    "id": "Jue6Hd-Q8YIm",
    "outputId": "28f9b54c-65be-4fd8-eb1b-82390f76d7d3"
   },
   "outputs": [
    {
     "name": "stdout",
     "output_type": "stream",
     "text": [
      "Sample rate: 48000\n"
     ]
    }
   ],
   "source": [
    "import wave\n",
    "\n",
    "# Open the audio file\n",
    "audio_file = '/content/drive/MyDrive/Audio-Classification-main/prit.wav'\n",
    "with wave.open(audio_file, 'rb') as wf:\n",
    "    sr = wf.getframerate()\n",
    "\n",
    "# 'sr' contains the sample rate of the audio file\n",
    "print(\"Sample rate:\", sr)\n"
   ]
  },
  {
   "cell_type": "code",
   "execution_count": 14,
   "id": "liberal-journalist",
   "metadata": {
    "colab": {
     "base_uri": "https://localhost:8080/",
     "height": 206
    },
    "executionInfo": {
     "elapsed": 482,
     "status": "ok",
     "timestamp": 1695554623172,
     "user": {
      "displayName": "Prit Chavda",
      "userId": "08447455138167255488"
     },
     "user_tz": -330
    },
    "id": "liberal-journalist",
    "outputId": "ef17ef1b-ad67-4836-a666-2ce01c45fd16"
   },
   "outputs": [
    {
     "ename": "AttributeError",
     "evalue": "module 'numpy' has no attribute 'complex'.\n`np.complex` was a deprecated alias for the builtin `complex`. To avoid this error in existing code, use `complex` by itself. Doing this will not modify any behavior and is safe. If you specifically wanted the numpy scalar type, use `np.complex128` here.\nThe aliases was originally deprecated in NumPy 1.20; for more details and guidance see the original release note at:\n    https://numpy.org/devdocs/release/1.20.0-notes.html#deprecations",
     "output_type": "error",
     "traceback": [
      "\u001b[1;31m---------------------------------------------------------------------------\u001b[0m",
      "\u001b[1;31mAttributeError\u001b[0m                            Traceback (most recent call last)",
      "Cell \u001b[1;32mIn[14], line 4\u001b[0m\n\u001b[0;32m      2\u001b[0m \u001b[38;5;28;01mimport\u001b[39;00m \u001b[38;5;21;01mpandas\u001b[39;00m \u001b[38;5;28;01mas\u001b[39;00m \u001b[38;5;21;01mpd\u001b[39;00m\n\u001b[0;32m      3\u001b[0m \u001b[38;5;28;01mimport\u001b[39;00m \u001b[38;5;21;01mos\u001b[39;00m\n\u001b[1;32m----> 4\u001b[0m \u001b[38;5;28;01mimport\u001b[39;00m \u001b[38;5;21;01mlibrosa\u001b[39;00m\n\u001b[0;32m      6\u001b[0m \u001b[38;5;66;03m# audio_dataset_path='/content/drive/MyDrive/Audio-Classification-main/UrbanSound8K/audio'\u001b[39;00m\n\u001b[0;32m      7\u001b[0m \u001b[38;5;66;03m# metadata=pd.read_csv('/content/drive/MyDrive/Audio-Classification-main/UrbanSound8K/metadata/UrbanSound8K.csv')\u001b[39;00m\n\u001b[0;32m      9\u001b[0m audio_dataset_path\u001b[38;5;241m=\u001b[39m\u001b[38;5;124m'\u001b[39m\u001b[38;5;124mUrbanSound8K/audio/man\u001b[39m\u001b[38;5;124m'\u001b[39m\n",
      "File \u001b[1;32m~\\AppData\\Roaming\\Python\\Python311\\site-packages\\librosa\\__init__.py:211\u001b[0m\n\u001b[0;32m    209\u001b[0m \u001b[38;5;66;03m# And all the librosa sub-modules\u001b[39;00m\n\u001b[0;32m    210\u001b[0m \u001b[38;5;28;01mfrom\u001b[39;00m \u001b[38;5;21;01m.\u001b[39;00m\u001b[38;5;21;01m_cache\u001b[39;00m \u001b[38;5;28;01mimport\u001b[39;00m cache\n\u001b[1;32m--> 211\u001b[0m \u001b[38;5;28;01mfrom\u001b[39;00m \u001b[38;5;21;01m.\u001b[39;00m \u001b[38;5;28;01mimport\u001b[39;00m core\n\u001b[0;32m    212\u001b[0m \u001b[38;5;28;01mfrom\u001b[39;00m \u001b[38;5;21;01m.\u001b[39;00m \u001b[38;5;28;01mimport\u001b[39;00m beat\n\u001b[0;32m    213\u001b[0m \u001b[38;5;28;01mfrom\u001b[39;00m \u001b[38;5;21;01m.\u001b[39;00m \u001b[38;5;28;01mimport\u001b[39;00m decompose\n",
      "File \u001b[1;32m~\\AppData\\Roaming\\Python\\Python311\\site-packages\\librosa\\core\\__init__.py:9\u001b[0m\n\u001b[0;32m      7\u001b[0m \u001b[38;5;28;01mfrom\u001b[39;00m \u001b[38;5;21;01m.\u001b[39;00m\u001b[38;5;21;01mspectrum\u001b[39;00m \u001b[38;5;28;01mimport\u001b[39;00m \u001b[38;5;241m*\u001b[39m  \u001b[38;5;66;03m# pylint: disable=wildcard-import\u001b[39;00m\n\u001b[0;32m      8\u001b[0m \u001b[38;5;28;01mfrom\u001b[39;00m \u001b[38;5;21;01m.\u001b[39;00m\u001b[38;5;21;01mpitch\u001b[39;00m \u001b[38;5;28;01mimport\u001b[39;00m \u001b[38;5;241m*\u001b[39m  \u001b[38;5;66;03m# pylint: disable=wildcard-import\u001b[39;00m\n\u001b[1;32m----> 9\u001b[0m \u001b[38;5;28;01mfrom\u001b[39;00m \u001b[38;5;21;01m.\u001b[39;00m\u001b[38;5;21;01mconstantq\u001b[39;00m \u001b[38;5;28;01mimport\u001b[39;00m \u001b[38;5;241m*\u001b[39m  \u001b[38;5;66;03m# pylint: disable=wildcard-import\u001b[39;00m\n\u001b[0;32m     10\u001b[0m \u001b[38;5;28;01mfrom\u001b[39;00m \u001b[38;5;21;01m.\u001b[39;00m\u001b[38;5;21;01mharmonic\u001b[39;00m \u001b[38;5;28;01mimport\u001b[39;00m \u001b[38;5;241m*\u001b[39m  \u001b[38;5;66;03m# pylint: disable=wildcard-import\u001b[39;00m\n\u001b[0;32m     11\u001b[0m \u001b[38;5;28;01mfrom\u001b[39;00m \u001b[38;5;21;01m.\u001b[39;00m\u001b[38;5;21;01mfft\u001b[39;00m \u001b[38;5;28;01mimport\u001b[39;00m \u001b[38;5;241m*\u001b[39m  \u001b[38;5;66;03m# pylint: disable=wildcard-import\u001b[39;00m\n",
      "File \u001b[1;32m~\\AppData\\Roaming\\Python\\Python311\\site-packages\\librosa\\core\\constantq.py:1059\u001b[0m\n\u001b[0;32m   1042\u001b[0m         V \u001b[38;5;241m/\u001b[39m\u001b[38;5;241m=\u001b[39m np\u001b[38;5;241m.\u001b[39msqrt(lengths[:, np\u001b[38;5;241m.\u001b[39mnewaxis])\n\u001b[0;32m   1044\u001b[0m     \u001b[38;5;28;01mreturn\u001b[39;00m V\n\u001b[0;32m   1047\u001b[0m \u001b[38;5;129m@cache\u001b[39m(level\u001b[38;5;241m=\u001b[39m\u001b[38;5;241m10\u001b[39m)\n\u001b[0;32m   1048\u001b[0m \u001b[38;5;28;01mdef\u001b[39;00m \u001b[38;5;21m__cqt_filter_fft\u001b[39m(\n\u001b[0;32m   1049\u001b[0m     sr,\n\u001b[0;32m   1050\u001b[0m     fmin,\n\u001b[0;32m   1051\u001b[0m     n_bins,\n\u001b[0;32m   1052\u001b[0m     bins_per_octave,\n\u001b[0;32m   1053\u001b[0m     filter_scale,\n\u001b[0;32m   1054\u001b[0m     norm,\n\u001b[0;32m   1055\u001b[0m     sparsity,\n\u001b[0;32m   1056\u001b[0m     hop_length\u001b[38;5;241m=\u001b[39m\u001b[38;5;28;01mNone\u001b[39;00m,\n\u001b[0;32m   1057\u001b[0m     window\u001b[38;5;241m=\u001b[39m\u001b[38;5;124m\"\u001b[39m\u001b[38;5;124mhann\u001b[39m\u001b[38;5;124m\"\u001b[39m,\n\u001b[0;32m   1058\u001b[0m     gamma\u001b[38;5;241m=\u001b[39m\u001b[38;5;241m0.0\u001b[39m,\n\u001b[1;32m-> 1059\u001b[0m     dtype\u001b[38;5;241m=\u001b[39mnp\u001b[38;5;241m.\u001b[39mcomplex,\n\u001b[0;32m   1060\u001b[0m ):\n\u001b[0;32m   1061\u001b[0m \u001b[38;5;250m    \u001b[39m\u001b[38;5;124;03m\"\"\"Generate the frequency domain constant-Q filter basis.\"\"\"\u001b[39;00m\n\u001b[0;32m   1063\u001b[0m     basis, lengths \u001b[38;5;241m=\u001b[39m filters\u001b[38;5;241m.\u001b[39mconstant_q(\n\u001b[0;32m   1064\u001b[0m         sr,\n\u001b[0;32m   1065\u001b[0m         fmin\u001b[38;5;241m=\u001b[39mfmin,\n\u001b[1;32m   (...)\u001b[0m\n\u001b[0;32m   1072\u001b[0m         gamma\u001b[38;5;241m=\u001b[39mgamma,\n\u001b[0;32m   1073\u001b[0m     )\n",
      "File \u001b[1;32mC:\\ProgramData\\anaconda3\\Lib\\site-packages\\numpy\\__init__.py:305\u001b[0m, in \u001b[0;36m__getattr__\u001b[1;34m(attr)\u001b[0m\n\u001b[0;32m    300\u001b[0m     warnings\u001b[38;5;241m.\u001b[39mwarn(\n\u001b[0;32m    301\u001b[0m         \u001b[38;5;124mf\u001b[39m\u001b[38;5;124m\"\u001b[39m\u001b[38;5;124mIn the future `np.\u001b[39m\u001b[38;5;132;01m{\u001b[39;00mattr\u001b[38;5;132;01m}\u001b[39;00m\u001b[38;5;124m` will be defined as the \u001b[39m\u001b[38;5;124m\"\u001b[39m\n\u001b[0;32m    302\u001b[0m         \u001b[38;5;124m\"\u001b[39m\u001b[38;5;124mcorresponding NumPy scalar.\u001b[39m\u001b[38;5;124m\"\u001b[39m, \u001b[38;5;167;01mFutureWarning\u001b[39;00m, stacklevel\u001b[38;5;241m=\u001b[39m\u001b[38;5;241m2\u001b[39m)\n\u001b[0;32m    304\u001b[0m \u001b[38;5;28;01mif\u001b[39;00m attr \u001b[38;5;129;01min\u001b[39;00m __former_attrs__:\n\u001b[1;32m--> 305\u001b[0m     \u001b[38;5;28;01mraise\u001b[39;00m \u001b[38;5;167;01mAttributeError\u001b[39;00m(__former_attrs__[attr])\n\u001b[0;32m    307\u001b[0m \u001b[38;5;66;03m# Importing Tester requires importing all of UnitTest which is not a\u001b[39;00m\n\u001b[0;32m    308\u001b[0m \u001b[38;5;66;03m# cheap import Since it is mainly used in test suits, we lazy import it\u001b[39;00m\n\u001b[0;32m    309\u001b[0m \u001b[38;5;66;03m# here to save on the order of 10 ms of import time for most users\u001b[39;00m\n\u001b[0;32m    310\u001b[0m \u001b[38;5;66;03m#\u001b[39;00m\n\u001b[0;32m    311\u001b[0m \u001b[38;5;66;03m# The previous way Tester was imported also had a side effect of adding\u001b[39;00m\n\u001b[0;32m    312\u001b[0m \u001b[38;5;66;03m# the full `numpy.testing` namespace\u001b[39;00m\n\u001b[0;32m    313\u001b[0m \u001b[38;5;28;01mif\u001b[39;00m attr \u001b[38;5;241m==\u001b[39m \u001b[38;5;124m'\u001b[39m\u001b[38;5;124mtesting\u001b[39m\u001b[38;5;124m'\u001b[39m:\n",
      "\u001b[1;31mAttributeError\u001b[0m: module 'numpy' has no attribute 'complex'.\n`np.complex` was a deprecated alias for the builtin `complex`. To avoid this error in existing code, use `complex` by itself. Doing this will not modify any behavior and is safe. If you specifically wanted the numpy scalar type, use `np.complex128` here.\nThe aliases was originally deprecated in NumPy 1.20; for more details and guidance see the original release note at:\n    https://numpy.org/devdocs/release/1.20.0-notes.html#deprecations"
     ]
    }
   ],
   "source": [
    "#### Extracting MFCC's For every audio file\n",
    "import pandas as pd\n",
    "import os\n",
    "import librosa\n",
    "\n",
    "# audio_dataset_path='/content/drive/MyDrive/Audio-Classification-main/UrbanSound8K/audio'\n",
    "# metadata=pd.read_csv('/content/drive/MyDrive/Audio-Classification-main/UrbanSound8K/metadata/UrbanSound8K.csv')\n",
    "\n",
    "audio_dataset_path='UrbanSound8K/audio/man'\n",
    "metadata=pd.read_csv('UrbanSound8K/metadata/man.csv')\n",
    "metadata.head()"
   ]
  },
  {
   "cell_type": "code",
   "execution_count": 31,
   "id": "tzK9-aBpoYAo",
   "metadata": {
    "colab": {
     "base_uri": "https://localhost:8080/"
    },
    "executionInfo": {
     "elapsed": 40149,
     "status": "ok",
     "timestamp": 1695533586912,
     "user": {
      "displayName": "Prit Chavda",
      "userId": "08447455138167255488"
     },
     "user_tz": -330
    },
    "id": "tzK9-aBpoYAo",
    "outputId": "99d299e2-d7e9-4237-c5b4-e60e7fb1b02c"
   },
   "outputs": [
    {
     "name": "stdout",
     "output_type": "stream",
     "text": [
      "Requirement already satisfied: llvmlite in /usr/local/lib/python3.10/dist-packages (0.39.1)\n",
      "Requirement already satisfied: resampy in /usr/local/lib/python3.10/dist-packages (0.4.2)\n",
      "Requirement already satisfied: numpy>=1.17 in /usr/local/lib/python3.10/dist-packages (from resampy) (1.23.5)\n",
      "Requirement already satisfied: numba>=0.53 in /usr/local/lib/python3.10/dist-packages (from resampy) (0.56.4)\n",
      "Requirement already satisfied: llvmlite<0.40,>=0.39.0dev0 in /usr/local/lib/python3.10/dist-packages (from numba>=0.53->resampy) (0.39.1)\n",
      "Requirement already satisfied: setuptools in /usr/local/lib/python3.10/dist-packages (from numba>=0.53->resampy) (67.7.2)\n"
     ]
    }
   ],
   "source": [
    "!pip install llvmlite\n",
    "!pip install resampy"
   ]
  },
  {
   "cell_type": "code",
   "execution_count": 157,
   "id": "hv3TAIX_xJFM",
   "metadata": {
    "colab": {
     "base_uri": "https://localhost:8080/"
    },
    "executionInfo": {
     "elapsed": 520,
     "status": "ok",
     "timestamp": 1695554629944,
     "user": {
      "displayName": "Prit Chavda",
      "userId": "08447455138167255488"
     },
     "user_tz": -330
    },
    "id": "hv3TAIX_xJFM",
    "outputId": "14a47199-aab1-4794-c5f9-375554809109"
   },
   "outputs": [
    {
     "name": "stdout",
     "output_type": "stream",
     "text": [
      "[[-6.9204285e+02 -6.8484302e+02 -6.7976819e+02 ... -6.7250928e+02\n",
      "  -6.6393134e+02 -6.7084210e+02]\n",
      " [ 6.5902615e+00  1.0918627e+01  1.4685146e+01 ...  2.6004814e+01\n",
      "   3.5720703e+01  2.7662577e+01]\n",
      " [ 1.1220558e+00 -3.6262894e+00 -4.7271528e+00 ...  4.5202422e+00\n",
      "   8.7367773e+00  5.6206913e+00]\n",
      " ...\n",
      " [-6.4608061e-01 -9.7876322e-01  1.3122840e+00 ...  1.5812027e-01\n",
      "   2.0590958e-01  3.7262039e+00]\n",
      " [-2.6055024e+00 -3.9833980e+00  2.1248102e+00 ...  6.1505634e-01\n",
      "  -5.8068120e-01  3.3003516e+00]\n",
      " [-3.0171866e+00 -2.9083254e+00  5.4122329e+00 ...  2.4038069e+00\n",
      "  -2.7060968e-01  2.5304222e+00]]\n"
     ]
    }
   ],
   "source": [
    "import librosa\n",
    "import wave\n",
    "# Load an audio file\n",
    "audio_file = '/content/drive/MyDrive/Audio-Classification-main/prit.wav'\n",
    "y, sr = librosa.load(audio_file, sr=None)  # Use sr=None to keep the original sample rate\n",
    "with wave.open(audio_file, 'rb') as wf:\n",
    "    sr = wf.getframerate()\n",
    "mfccs_features = librosa.feature.mfcc(y=y, sr=sr, n_mfcc=40)\n",
    "\n",
    "\n",
    "print(mfccs_features)\n",
    "# Resample the audio to the desired sample rate\n",
    "# target_sr = 22050  # Your desired sample rate\n",
    "# y_resampled = librosa.resample(y, sr, target_sr)\n",
    "\n",
    "# Now 'y_resampled' contains the audio resampled to the desired sample rate\n"
   ]
  },
  {
   "cell_type": "code",
   "execution_count": 158,
   "id": "chinese-calendar",
   "metadata": {
    "executionInfo": {
     "elapsed": 3,
     "status": "ok",
     "timestamp": 1695554633427,
     "user": {
      "displayName": "Prit Chavda",
      "userId": "08447455138167255488"
     },
     "user_tz": -330
    },
    "id": "chinese-calendar"
   },
   "outputs": [],
   "source": [
    "def features_extractor(file):\n",
    "  with wave.open(file_name, 'rb') as wf:\n",
    "    sr2 = wf.getframerate()\n",
    "    audio, sample_rate = librosa.load(file_name, res_type=None)\n",
    "    mfccs_features = librosa.feature.mfcc(y=audio, sr=sr2, n_mfcc=40)\n",
    "    mfccs_scaled_features = np.mean(mfccs_features.T,axis=0)\n",
    "\n",
    "    return mfccs_scaled_features\n"
   ]
  },
  {
   "cell_type": "code",
   "execution_count": 159,
   "id": "nuclear-sponsorship",
   "metadata": {
    "colab": {
     "base_uri": "https://localhost:8080/"
    },
    "executionInfo": {
     "elapsed": 6215,
     "status": "ok",
     "timestamp": 1695554641640,
     "user": {
      "displayName": "Prit Chavda",
      "userId": "08447455138167255488"
     },
     "user_tz": -330
    },
    "id": "nuclear-sponsorship",
    "outputId": "aba7e71f-f296-4974-8280-e397d2473ef8"
   },
   "outputs": [
    {
     "name": "stderr",
     "output_type": "stream",
     "text": [
      "22it [00:05,  3.80it/s]\n"
     ]
    }
   ],
   "source": [
    "def features_extractor(file):\n",
    "    # audio, sample_rate = librosa.load(file_name, res_type='kaiser_fast')\n",
    "    audio, sample_rate = librosa.load(file_name)\n",
    "    mfccs_features = librosa.feature.mfcc(y=audio, sr=sample_rate, n_mfcc=40)\n",
    "    mfccs_scaled_features = np.mean(mfccs_features.T,axis=0)\n",
    "\n",
    "    return mfccs_scaled_features\n",
    "\n",
    "import numpy as np\n",
    "import resampy as rs\n",
    "from tqdm import tqdm\n",
    "### Now we iterate through every audio file and extract features\n",
    "### using Mel-Frequency Cepstral Coefficients\n",
    "extracted_features=[]\n",
    "for index_num,row in tqdm(metadata.iterrows()):\n",
    "    file_name = os.path.join(os.path.abspath(audio_dataset_path),'fold'+str(row[\"fold\"])+'/',str(row[\"slice_file_name\"]))\n",
    "    final_class_labels=row[\"class\"]\n",
    "    data=features_extractor(file_name)\n",
    "    extracted_features.append([data,final_class_labels])"
   ]
  },
  {
   "cell_type": "code",
   "execution_count": 160,
   "id": "acoustic-wagner",
   "metadata": {
    "colab": {
     "base_uri": "https://localhost:8080/",
     "height": 206
    },
    "executionInfo": {
     "elapsed": 471,
     "status": "ok",
     "timestamp": 1695554646695,
     "user": {
      "displayName": "Prit Chavda",
      "userId": "08447455138167255488"
     },
     "user_tz": -330
    },
    "id": "acoustic-wagner",
    "outputId": "bf50046d-42e2-48ec-8dcb-872050cb5cc0"
   },
   "outputs": [
    {
     "data": {
      "text/html": [
       "\n",
       "  <div id=\"df-bc95e2e2-d435-4f2e-9512-ca1cbd7227d9\" class=\"colab-df-container\">\n",
       "    <div>\n",
       "<style scoped>\n",
       "    .dataframe tbody tr th:only-of-type {\n",
       "        vertical-align: middle;\n",
       "    }\n",
       "\n",
       "    .dataframe tbody tr th {\n",
       "        vertical-align: top;\n",
       "    }\n",
       "\n",
       "    .dataframe thead th {\n",
       "        text-align: right;\n",
       "    }\n",
       "</style>\n",
       "<table border=\"1\" class=\"dataframe\">\n",
       "  <thead>\n",
       "    <tr style=\"text-align: right;\">\n",
       "      <th></th>\n",
       "      <th>feature</th>\n",
       "      <th>class</th>\n",
       "    </tr>\n",
       "  </thead>\n",
       "  <tbody>\n",
       "    <tr>\n",
       "      <th>0</th>\n",
       "      <td>[-447.12952, 105.81826, 23.667995, 14.22423, 1...</td>\n",
       "      <td>Prit Chavda</td>\n",
       "    </tr>\n",
       "    <tr>\n",
       "      <th>1</th>\n",
       "      <td>[-445.97934, 93.10476, 23.450607, 10.971537, 9...</td>\n",
       "      <td>Prit Chavda</td>\n",
       "    </tr>\n",
       "    <tr>\n",
       "      <th>2</th>\n",
       "      <td>[-443.8292, 84.861404, 19.81303, 11.040088, 7....</td>\n",
       "      <td>Prit Chavda</td>\n",
       "    </tr>\n",
       "    <tr>\n",
       "      <th>3</th>\n",
       "      <td>[-421.24622, 117.20875, 25.92727, 14.127257, 1...</td>\n",
       "      <td>Prit Chavda</td>\n",
       "    </tr>\n",
       "    <tr>\n",
       "      <th>4</th>\n",
       "      <td>[-455.1913, 111.417725, 29.266699, 21.61553, 1...</td>\n",
       "      <td>Prit Chavda</td>\n",
       "    </tr>\n",
       "  </tbody>\n",
       "</table>\n",
       "</div>\n",
       "    <div class=\"colab-df-buttons\">\n",
       "\n",
       "  <div class=\"colab-df-container\">\n",
       "    <button class=\"colab-df-convert\" onclick=\"convertToInteractive('df-bc95e2e2-d435-4f2e-9512-ca1cbd7227d9')\"\n",
       "            title=\"Convert this dataframe to an interactive table.\"\n",
       "            style=\"display:none;\">\n",
       "\n",
       "  <svg xmlns=\"http://www.w3.org/2000/svg\" height=\"24px\" viewBox=\"0 -960 960 960\">\n",
       "    <path d=\"M120-120v-720h720v720H120Zm60-500h600v-160H180v160Zm220 220h160v-160H400v160Zm0 220h160v-160H400v160ZM180-400h160v-160H180v160Zm440 0h160v-160H620v160ZM180-180h160v-160H180v160Zm440 0h160v-160H620v160Z\"/>\n",
       "  </svg>\n",
       "    </button>\n",
       "\n",
       "  <style>\n",
       "    .colab-df-container {\n",
       "      display:flex;\n",
       "      gap: 12px;\n",
       "    }\n",
       "\n",
       "    .colab-df-convert {\n",
       "      background-color: #E8F0FE;\n",
       "      border: none;\n",
       "      border-radius: 50%;\n",
       "      cursor: pointer;\n",
       "      display: none;\n",
       "      fill: #1967D2;\n",
       "      height: 32px;\n",
       "      padding: 0 0 0 0;\n",
       "      width: 32px;\n",
       "    }\n",
       "\n",
       "    .colab-df-convert:hover {\n",
       "      background-color: #E2EBFA;\n",
       "      box-shadow: 0px 1px 2px rgba(60, 64, 67, 0.3), 0px 1px 3px 1px rgba(60, 64, 67, 0.15);\n",
       "      fill: #174EA6;\n",
       "    }\n",
       "\n",
       "    .colab-df-buttons div {\n",
       "      margin-bottom: 4px;\n",
       "    }\n",
       "\n",
       "    [theme=dark] .colab-df-convert {\n",
       "      background-color: #3B4455;\n",
       "      fill: #D2E3FC;\n",
       "    }\n",
       "\n",
       "    [theme=dark] .colab-df-convert:hover {\n",
       "      background-color: #434B5C;\n",
       "      box-shadow: 0px 1px 3px 1px rgba(0, 0, 0, 0.15);\n",
       "      filter: drop-shadow(0px 1px 2px rgba(0, 0, 0, 0.3));\n",
       "      fill: #FFFFFF;\n",
       "    }\n",
       "  </style>\n",
       "\n",
       "    <script>\n",
       "      const buttonEl =\n",
       "        document.querySelector('#df-bc95e2e2-d435-4f2e-9512-ca1cbd7227d9 button.colab-df-convert');\n",
       "      buttonEl.style.display =\n",
       "        google.colab.kernel.accessAllowed ? 'block' : 'none';\n",
       "\n",
       "      async function convertToInteractive(key) {\n",
       "        const element = document.querySelector('#df-bc95e2e2-d435-4f2e-9512-ca1cbd7227d9');\n",
       "        const dataTable =\n",
       "          await google.colab.kernel.invokeFunction('convertToInteractive',\n",
       "                                                    [key], {});\n",
       "        if (!dataTable) return;\n",
       "\n",
       "        const docLinkHtml = 'Like what you see? Visit the ' +\n",
       "          '<a target=\"_blank\" href=https://colab.research.google.com/notebooks/data_table.ipynb>data table notebook</a>'\n",
       "          + ' to learn more about interactive tables.';\n",
       "        element.innerHTML = '';\n",
       "        dataTable['output_type'] = 'display_data';\n",
       "        await google.colab.output.renderOutput(dataTable, element);\n",
       "        const docLink = document.createElement('div');\n",
       "        docLink.innerHTML = docLinkHtml;\n",
       "        element.appendChild(docLink);\n",
       "      }\n",
       "    </script>\n",
       "  </div>\n",
       "\n",
       "\n",
       "<div id=\"df-b44a89f4-af30-4cbc-bab3-9c9912b28fac\">\n",
       "  <button class=\"colab-df-quickchart\" onclick=\"quickchart('df-b44a89f4-af30-4cbc-bab3-9c9912b28fac')\"\n",
       "            title=\"Suggest charts.\"\n",
       "            style=\"display:none;\">\n",
       "\n",
       "<svg xmlns=\"http://www.w3.org/2000/svg\" height=\"24px\"viewBox=\"0 0 24 24\"\n",
       "     width=\"24px\">\n",
       "    <g>\n",
       "        <path d=\"M19 3H5c-1.1 0-2 .9-2 2v14c0 1.1.9 2 2 2h14c1.1 0 2-.9 2-2V5c0-1.1-.9-2-2-2zM9 17H7v-7h2v7zm4 0h-2V7h2v10zm4 0h-2v-4h2v4z\"/>\n",
       "    </g>\n",
       "</svg>\n",
       "  </button>\n",
       "\n",
       "<style>\n",
       "  .colab-df-quickchart {\n",
       "      --bg-color: #E8F0FE;\n",
       "      --fill-color: #1967D2;\n",
       "      --hover-bg-color: #E2EBFA;\n",
       "      --hover-fill-color: #174EA6;\n",
       "      --disabled-fill-color: #AAA;\n",
       "      --disabled-bg-color: #DDD;\n",
       "  }\n",
       "\n",
       "  [theme=dark] .colab-df-quickchart {\n",
       "      --bg-color: #3B4455;\n",
       "      --fill-color: #D2E3FC;\n",
       "      --hover-bg-color: #434B5C;\n",
       "      --hover-fill-color: #FFFFFF;\n",
       "      --disabled-bg-color: #3B4455;\n",
       "      --disabled-fill-color: #666;\n",
       "  }\n",
       "\n",
       "  .colab-df-quickchart {\n",
       "    background-color: var(--bg-color);\n",
       "    border: none;\n",
       "    border-radius: 50%;\n",
       "    cursor: pointer;\n",
       "    display: none;\n",
       "    fill: var(--fill-color);\n",
       "    height: 32px;\n",
       "    padding: 0;\n",
       "    width: 32px;\n",
       "  }\n",
       "\n",
       "  .colab-df-quickchart:hover {\n",
       "    background-color: var(--hover-bg-color);\n",
       "    box-shadow: 0 1px 2px rgba(60, 64, 67, 0.3), 0 1px 3px 1px rgba(60, 64, 67, 0.15);\n",
       "    fill: var(--button-hover-fill-color);\n",
       "  }\n",
       "\n",
       "  .colab-df-quickchart-complete:disabled,\n",
       "  .colab-df-quickchart-complete:disabled:hover {\n",
       "    background-color: var(--disabled-bg-color);\n",
       "    fill: var(--disabled-fill-color);\n",
       "    box-shadow: none;\n",
       "  }\n",
       "\n",
       "  .colab-df-spinner {\n",
       "    border: 2px solid var(--fill-color);\n",
       "    border-color: transparent;\n",
       "    border-bottom-color: var(--fill-color);\n",
       "    animation:\n",
       "      spin 1s steps(1) infinite;\n",
       "  }\n",
       "\n",
       "  @keyframes spin {\n",
       "    0% {\n",
       "      border-color: transparent;\n",
       "      border-bottom-color: var(--fill-color);\n",
       "      border-left-color: var(--fill-color);\n",
       "    }\n",
       "    20% {\n",
       "      border-color: transparent;\n",
       "      border-left-color: var(--fill-color);\n",
       "      border-top-color: var(--fill-color);\n",
       "    }\n",
       "    30% {\n",
       "      border-color: transparent;\n",
       "      border-left-color: var(--fill-color);\n",
       "      border-top-color: var(--fill-color);\n",
       "      border-right-color: var(--fill-color);\n",
       "    }\n",
       "    40% {\n",
       "      border-color: transparent;\n",
       "      border-right-color: var(--fill-color);\n",
       "      border-top-color: var(--fill-color);\n",
       "    }\n",
       "    60% {\n",
       "      border-color: transparent;\n",
       "      border-right-color: var(--fill-color);\n",
       "    }\n",
       "    80% {\n",
       "      border-color: transparent;\n",
       "      border-right-color: var(--fill-color);\n",
       "      border-bottom-color: var(--fill-color);\n",
       "    }\n",
       "    90% {\n",
       "      border-color: transparent;\n",
       "      border-bottom-color: var(--fill-color);\n",
       "    }\n",
       "  }\n",
       "</style>\n",
       "\n",
       "  <script>\n",
       "    async function quickchart(key) {\n",
       "      const quickchartButtonEl =\n",
       "        document.querySelector('#' + key + ' button');\n",
       "      quickchartButtonEl.disabled = true;  // To prevent multiple clicks.\n",
       "      quickchartButtonEl.classList.add('colab-df-spinner');\n",
       "      try {\n",
       "        const charts = await google.colab.kernel.invokeFunction(\n",
       "            'suggestCharts', [key], {});\n",
       "      } catch (error) {\n",
       "        console.error('Error during call to suggestCharts:', error);\n",
       "      }\n",
       "      quickchartButtonEl.classList.remove('colab-df-spinner');\n",
       "      quickchartButtonEl.classList.add('colab-df-quickchart-complete');\n",
       "    }\n",
       "    (() => {\n",
       "      let quickchartButtonEl =\n",
       "        document.querySelector('#df-b44a89f4-af30-4cbc-bab3-9c9912b28fac button');\n",
       "      quickchartButtonEl.style.display =\n",
       "        google.colab.kernel.accessAllowed ? 'block' : 'none';\n",
       "    })();\n",
       "  </script>\n",
       "</div>\n",
       "    </div>\n",
       "  </div>\n"
      ],
      "text/plain": [
       "                                             feature        class\n",
       "0  [-447.12952, 105.81826, 23.667995, 14.22423, 1...  Prit Chavda\n",
       "1  [-445.97934, 93.10476, 23.450607, 10.971537, 9...  Prit Chavda\n",
       "2  [-443.8292, 84.861404, 19.81303, 11.040088, 7....  Prit Chavda\n",
       "3  [-421.24622, 117.20875, 25.92727, 14.127257, 1...  Prit Chavda\n",
       "4  [-455.1913, 111.417725, 29.266699, 21.61553, 1...  Prit Chavda"
      ]
     },
     "execution_count": 160,
     "metadata": {},
     "output_type": "execute_result"
    }
   ],
   "source": [
    "### converting extracted_features to Pandas dataframe\n",
    "extracted_features_df=pd.DataFrame(extracted_features,columns=['feature','class'])\n",
    "extracted_features_df.head()"
   ]
  },
  {
   "cell_type": "code",
   "execution_count": 161,
   "id": "characteristic-sudan",
   "metadata": {
    "executionInfo": {
     "elapsed": 442,
     "status": "ok",
     "timestamp": 1695554649863,
     "user": {
      "displayName": "Prit Chavda",
      "userId": "08447455138167255488"
     },
     "user_tz": -330
    },
    "id": "characteristic-sudan"
   },
   "outputs": [],
   "source": [
    "### Split the dataset into independent and dependent dataset\n",
    "X=np.array(extracted_features_df['feature'].tolist())\n",
    "y=np.array(extracted_features_df['class'].tolist())"
   ]
  },
  {
   "cell_type": "code",
   "execution_count": 163,
   "id": "friendly-placement",
   "metadata": {
    "colab": {
     "base_uri": "https://localhost:8080/"
    },
    "executionInfo": {
     "elapsed": 4,
     "status": "ok",
     "timestamp": 1695554654061,
     "user": {
      "displayName": "Prit Chavda",
      "userId": "08447455138167255488"
     },
     "user_tz": -330
    },
    "id": "friendly-placement",
    "outputId": "70eb3b95-d60b-4ad3-cfd4-365744316d7a"
   },
   "outputs": [
    {
     "data": {
      "text/plain": [
       "(22, 40)"
      ]
     },
     "execution_count": 163,
     "metadata": {},
     "output_type": "execute_result"
    }
   ],
   "source": [
    "X.shape"
   ]
  },
  {
   "cell_type": "code",
   "execution_count": 162,
   "id": "japanese-cheese",
   "metadata": {
    "colab": {
     "base_uri": "https://localhost:8080/"
    },
    "executionInfo": {
     "elapsed": 457,
     "status": "ok",
     "timestamp": 1695554652520,
     "user": {
      "displayName": "Prit Chavda",
      "userId": "08447455138167255488"
     },
     "user_tz": -330
    },
    "id": "japanese-cheese",
    "outputId": "ba6b2239-6e62-456e-8a59-b54cb8c1a605"
   },
   "outputs": [
    {
     "data": {
      "text/plain": [
       "array(['Prit Chavda', 'Prit Chavda', 'Prit Chavda', 'Prit Chavda',\n",
       "       'Prit Chavda', 'Prit Chavda', 'Prit Chavda', 'Prit Chavda',\n",
       "       'Prit Chavda', 'Prit Chavda', 'Dhruv Chavda', 'Dhruv Chavda',\n",
       "       'Dhruv Chavda', 'Dhruv Chavda', 'Dhruv Chavda', 'Dhruv Chavda',\n",
       "       'Dhruv Chavda', 'Dhruv Chavda', 'Dhruv Chavda', 'Dhruv Chavda',\n",
       "       'Dhruv Chavda', 'Dhruv Chavda'], dtype='<U12')"
      ]
     },
     "execution_count": 162,
     "metadata": {},
     "output_type": "execute_result"
    }
   ],
   "source": [
    "y"
   ]
  },
  {
   "cell_type": "code",
   "execution_count": 164,
   "id": "wired-church",
   "metadata": {
    "executionInfo": {
     "elapsed": 476,
     "status": "ok",
     "timestamp": 1695554657373,
     "user": {
      "displayName": "Prit Chavda",
      "userId": "08447455138167255488"
     },
     "user_tz": -330
    },
    "id": "wired-church"
   },
   "outputs": [],
   "source": [
    "### Label Encoding\n",
    "###y=np.array(pd.get_dummies(y))\n",
    "### Label Encoder\n",
    "from tensorflow.keras.utils import to_categorical\n",
    "from sklearn.preprocessing import LabelEncoder\n",
    "labelencoder=LabelEncoder()\n",
    "y=to_categorical(labelencoder.fit_transform(y))"
   ]
  },
  {
   "cell_type": "code",
   "execution_count": 165,
   "id": "sitting-anniversary",
   "metadata": {
    "colab": {
     "base_uri": "https://localhost:8080/"
    },
    "executionInfo": {
     "elapsed": 462,
     "status": "ok",
     "timestamp": 1695554659771,
     "user": {
      "displayName": "Prit Chavda",
      "userId": "08447455138167255488"
     },
     "user_tz": -330
    },
    "id": "sitting-anniversary",
    "outputId": "cf1e5ade-7d3b-43be-b136-6c7c75e406ae"
   },
   "outputs": [
    {
     "data": {
      "text/plain": [
       "array([[0., 1.],\n",
       "       [0., 1.],\n",
       "       [0., 1.],\n",
       "       [0., 1.],\n",
       "       [0., 1.],\n",
       "       [0., 1.],\n",
       "       [0., 1.],\n",
       "       [0., 1.],\n",
       "       [0., 1.],\n",
       "       [0., 1.],\n",
       "       [1., 0.],\n",
       "       [1., 0.],\n",
       "       [1., 0.],\n",
       "       [1., 0.],\n",
       "       [1., 0.],\n",
       "       [1., 0.],\n",
       "       [1., 0.],\n",
       "       [1., 0.],\n",
       "       [1., 0.],\n",
       "       [1., 0.],\n",
       "       [1., 0.],\n",
       "       [1., 0.]], dtype=float32)"
      ]
     },
     "execution_count": 165,
     "metadata": {},
     "output_type": "execute_result"
    }
   ],
   "source": [
    "y"
   ]
  },
  {
   "cell_type": "code",
   "execution_count": 166,
   "id": "documentary-priority",
   "metadata": {
    "executionInfo": {
     "elapsed": 2,
     "status": "ok",
     "timestamp": 1695554664604,
     "user": {
      "displayName": "Prit Chavda",
      "userId": "08447455138167255488"
     },
     "user_tz": -330
    },
    "id": "documentary-priority"
   },
   "outputs": [],
   "source": [
    "### Train Test Split\n",
    "from sklearn.model_selection import train_test_split\n",
    "X_train,X_test,y_train,y_test=train_test_split(X,y,test_size=0.2,random_state=0)"
   ]
  },
  {
   "cell_type": "code",
   "execution_count": 167,
   "id": "analyzed-payday",
   "metadata": {
    "colab": {
     "base_uri": "https://localhost:8080/"
    },
    "executionInfo": {
     "elapsed": 4,
     "status": "ok",
     "timestamp": 1695554666279,
     "user": {
      "displayName": "Prit Chavda",
      "userId": "08447455138167255488"
     },
     "user_tz": -330
    },
    "id": "analyzed-payday",
    "outputId": "eeac6b5a-34de-4cca-8907-d27b0241eb0b"
   },
   "outputs": [
    {
     "data": {
      "text/plain": [
       "array([[-5.32244019e+02,  6.91069107e+01,  1.34922438e+01,\n",
       "         2.87528515e+00,  4.37864065e+00, -3.46143484e+00,\n",
       "        -8.91626453e+00, -8.20732975e+00, -5.69006443e+00,\n",
       "        -4.09218121e+00, -2.15526819e-01,  4.38846588e+00,\n",
       "        -9.17981118e-02, -7.42832661e+00, -6.45684481e+00,\n",
       "        -6.45547819e+00, -1.00180063e+01, -8.37133980e+00,\n",
       "        -5.20784140e+00, -4.06639576e+00, -1.69498169e+00,\n",
       "        -1.67801484e-01, -1.12177122e+00, -1.91623819e+00,\n",
       "        -1.56099784e+00, -2.78153002e-01, -6.98252201e-01,\n",
       "        -3.52627945e+00, -3.95191646e+00, -1.53356862e+00,\n",
       "        -8.75729799e-01, -3.06259894e+00, -5.13537407e+00,\n",
       "        -4.47904730e+00, -2.44545364e+00, -2.77881455e+00,\n",
       "        -3.84936404e+00, -2.24262500e+00, -1.14926553e+00,\n",
       "        -2.60199261e+00],\n",
       "       [-4.59850006e+02,  5.76471443e+01,  1.71161938e+01,\n",
       "         4.42281866e+00,  6.26123607e-01, -6.16398144e+00,\n",
       "        -9.48344994e+00, -1.01337271e+01, -8.50407505e+00,\n",
       "        -6.14669228e+00, -2.51123905e+00,  2.71614146e+00,\n",
       "         2.51009107e-01, -6.10821581e+00, -4.65269661e+00,\n",
       "        -4.20853949e+00, -9.47151852e+00, -9.30031395e+00,\n",
       "        -4.76679659e+00, -2.82352757e+00, -2.36001706e+00,\n",
       "        -2.72265744e+00, -3.27351451e+00, -2.55811620e+00,\n",
       "        -1.24197114e+00, -9.86226946e-02, -1.05354857e+00,\n",
       "        -3.89804721e+00, -4.28135681e+00, -1.95848095e+00,\n",
       "        -1.48767555e+00, -4.40696001e+00, -6.14155149e+00,\n",
       "        -3.15885782e+00, -1.06244111e+00, -3.56993580e+00,\n",
       "        -4.74523783e+00, -3.58878374e+00, -3.87970996e+00,\n",
       "        -3.96899319e+00],\n",
       "       [-4.95856812e+02,  6.31249466e+01,  1.65888386e+01,\n",
       "         4.53168774e+00, -8.06838572e-01, -9.42358017e+00,\n",
       "        -1.06422482e+01, -8.32037258e+00, -6.13961935e+00,\n",
       "        -6.24975777e+00, -3.38412046e+00,  3.25891638e+00,\n",
       "         3.18197668e-01, -5.87100458e+00, -3.95238876e+00,\n",
       "        -4.83802748e+00, -9.05424976e+00, -7.93248224e+00,\n",
       "        -5.57695770e+00, -3.66554165e+00, -1.52973783e+00,\n",
       "        -1.19567418e+00, -1.00801826e+00, -1.35938418e+00,\n",
       "        -1.75055552e+00,  1.16395988e-01,  1.11455061e-02,\n",
       "        -3.04099798e+00, -3.76532173e+00, -2.35214376e+00,\n",
       "        -1.99629402e+00, -3.52456713e+00, -5.32884932e+00,\n",
       "        -4.04239607e+00, -1.58732784e+00, -2.74725914e+00,\n",
       "        -4.27841520e+00, -2.44295192e+00, -1.76567149e+00,\n",
       "        -4.28115225e+00],\n",
       "       [-4.53209503e+02,  1.00229141e+02,  2.38198967e+01,\n",
       "         1.07723389e+01,  8.86005497e+00, -7.72452879e+00,\n",
       "        -1.41343231e+01, -1.36009684e+01, -1.99713764e+01,\n",
       "        -1.64161701e+01, -9.47058296e+00,  2.25925833e-01,\n",
       "         4.22513247e+00, -3.60936093e+00, -6.83309460e+00,\n",
       "        -6.48808002e+00, -8.15820885e+00, -5.19897413e+00,\n",
       "         2.82480121e+00, -1.48790026e+00, -9.15480423e+00,\n",
       "        -5.50994778e+00, -8.74367774e-01, -2.48921847e+00,\n",
       "        -5.76596546e+00, -6.67477846e+00, -2.57916379e+00,\n",
       "         9.11602616e-01, -4.01164150e+00, -6.73603249e+00,\n",
       "        -3.13185072e+00, -2.62001419e+00, -6.09372139e+00,\n",
       "        -4.53124285e+00, -2.97109985e+00, -6.42607307e+00,\n",
       "        -6.19977999e+00, -1.85779715e+00, -1.19342506e+00,\n",
       "        -3.66645527e+00],\n",
       "       [-4.53708069e+02,  7.74919434e+01,  1.85610409e+01,\n",
       "         8.35772419e+00,  6.19081545e+00, -6.71846485e+00,\n",
       "        -1.11194048e+01, -1.24541216e+01, -1.74308681e+01,\n",
       "        -1.37751493e+01, -6.09372950e+00,  2.17216611e+00,\n",
       "         3.83841348e+00, -4.78170109e+00, -7.33149576e+00,\n",
       "        -4.83329582e+00, -6.05583143e+00, -4.02510595e+00,\n",
       "         1.48464286e+00, -2.22187901e+00, -9.11648369e+00,\n",
       "        -6.35246468e+00, -1.57949424e+00, -9.20029163e-01,\n",
       "        -3.68995476e+00, -6.08655739e+00, -1.63020825e+00,\n",
       "         1.72789979e+00, -2.28362608e+00, -5.40326262e+00,\n",
       "        -2.33642149e+00, -1.49634135e+00, -4.29738665e+00,\n",
       "        -2.50232577e+00, -1.97410691e+00, -4.88654375e+00,\n",
       "        -5.11546803e+00, -1.60012829e+00, -1.11385834e+00,\n",
       "        -3.77522588e+00],\n",
       "       [-5.06298553e+02,  7.89026337e+01,  1.92935963e+01,\n",
       "         5.68349504e+00,  3.85719132e+00, -4.95599890e+00,\n",
       "        -1.01927767e+01, -1.00537949e+01, -7.45109797e+00,\n",
       "        -5.88317680e+00, -1.33060956e+00,  5.33694887e+00,\n",
       "         1.17266051e-01, -7.20982981e+00, -3.86637020e+00,\n",
       "        -3.94021177e+00, -8.90207958e+00, -8.03064919e+00,\n",
       "        -4.53518772e+00, -2.08249688e+00, -1.61993414e-01,\n",
       "        -6.14886463e-01, -1.97589874e+00, -1.80821002e+00,\n",
       "         3.60048950e-01,  2.59953070e+00,  1.13679945e+00,\n",
       "        -2.56900525e+00, -3.02357292e+00, -3.11295897e-01,\n",
       "         2.49584645e-01, -2.82082486e+00, -5.02295065e+00,\n",
       "        -3.63911510e+00, -2.43403101e+00, -3.51239800e+00,\n",
       "        -2.99685860e+00, -3.10407758e-01, -3.73562515e-01,\n",
       "        -3.00894880e+00],\n",
       "       [-4.55191315e+02,  1.11417725e+02,  2.92666988e+01,\n",
       "         2.16155300e+01,  1.66538067e+01, -4.69746161e+00,\n",
       "        -1.00437193e+01, -1.14542370e+01, -1.86091595e+01,\n",
       "        -1.49356899e+01, -1.02863884e+01, -3.40290070e+00,\n",
       "        -2.79766262e-01, -9.54259109e+00, -1.04636955e+01,\n",
       "        -5.12657356e+00, -5.86722183e+00, -3.44995809e+00,\n",
       "         2.21491551e+00, -5.06490183e+00, -1.26948652e+01,\n",
       "        -6.78745031e+00, -1.96882403e+00, -3.95067191e+00,\n",
       "        -6.54540873e+00, -6.69466305e+00, -1.96939349e+00,\n",
       "         9.73268032e-01, -3.82025146e+00, -5.75947952e+00,\n",
       "        -2.65451241e+00, -3.80882239e+00, -6.94313192e+00,\n",
       "        -3.89129972e+00, -3.62112522e+00, -7.92963696e+00,\n",
       "        -5.72058296e+00, -1.62287641e+00, -2.34338212e+00,\n",
       "        -3.80204797e+00],\n",
       "       [-4.43829193e+02,  8.48614044e+01,  1.98130302e+01,\n",
       "         1.10400877e+01,  7.10284281e+00, -9.84552574e+00,\n",
       "        -1.25123720e+01, -1.31021690e+01, -1.95818958e+01,\n",
       "        -1.38817463e+01, -4.87522793e+00,  2.15434241e+00,\n",
       "         2.53846478e+00, -5.83348083e+00, -8.65252590e+00,\n",
       "        -5.50265646e+00, -5.42193413e+00, -2.11602759e+00,\n",
       "         3.78389955e+00, -2.98996782e+00, -1.00300808e+01,\n",
       "        -5.38083982e+00, -2.23488569e+00, -4.45480537e+00,\n",
       "        -6.02093220e+00, -6.58574533e+00, -2.35657287e+00,\n",
       "         2.40432525e+00, -1.52531409e+00, -5.39724493e+00,\n",
       "        -2.51431823e+00, -2.24964309e+00, -5.52747297e+00,\n",
       "        -3.13330245e+00, -2.72444439e+00, -6.19373083e+00,\n",
       "        -4.76934099e+00, -1.51722693e+00, -2.39233518e+00,\n",
       "        -3.93459797e+00],\n",
       "       [-4.89620453e+02,  7.31364365e+01,  1.70419979e+01,\n",
       "         7.97852755e+00,  7.72655487e+00, -5.44203615e+00,\n",
       "        -1.08222818e+01, -1.12821884e+01, -1.58721991e+01,\n",
       "        -1.19025011e+01, -4.75408792e+00,  1.51441860e+00,\n",
       "         1.82094598e+00, -4.36186790e+00, -7.32916451e+00,\n",
       "        -6.04169893e+00, -5.21826410e+00, -2.24881148e+00,\n",
       "         2.11398315e+00, -2.30539322e+00, -7.16366339e+00,\n",
       "        -3.85757828e+00, -1.35450706e-01, -1.57642269e+00,\n",
       "        -4.37799692e+00, -5.58061790e+00, -1.95658600e+00,\n",
       "         1.24566031e+00, -2.44549680e+00, -5.01914310e+00,\n",
       "        -2.35096025e+00, -1.71944273e+00, -4.43460608e+00,\n",
       "        -3.05412817e+00, -2.67800069e+00, -4.74173069e+00,\n",
       "        -3.44907022e+00, -5.26880920e-01, -1.05677891e+00,\n",
       "        -2.57987118e+00],\n",
       "       [-4.58180542e+02,  7.77176590e+01,  2.42411766e+01,\n",
       "         7.83447647e+00,  3.14671159e+00, -7.75979853e+00,\n",
       "        -1.45582762e+01, -1.34122248e+01, -8.57532501e+00,\n",
       "        -5.33530378e+00,  6.42089903e-01,  6.89604425e+00,\n",
       "         5.98349333e-01, -6.81844664e+00, -3.55504203e+00,\n",
       "        -5.23521376e+00, -1.34046574e+01, -1.39148951e+01,\n",
       "        -8.90616226e+00, -4.59747744e+00, -2.28478742e+00,\n",
       "        -3.03922820e+00, -3.72817445e+00, -2.56222987e+00,\n",
       "        -5.02754569e-01,  1.72432816e+00, -5.33055216e-02,\n",
       "        -5.09038639e+00, -5.70501184e+00, -2.66948199e+00,\n",
       "        -2.90897489e+00, -6.44719172e+00, -7.90001488e+00,\n",
       "        -4.53358364e+00, -1.87393510e+00, -4.79038429e+00,\n",
       "        -6.56059551e+00, -3.88821912e+00, -3.82347894e+00,\n",
       "        -6.08292246e+00],\n",
       "       [-4.16223022e+02,  1.22189697e+02,  2.93400898e+01,\n",
       "         1.48455935e+01,  9.32676888e+00, -1.25091515e+01,\n",
       "        -1.70224571e+01, -1.76507320e+01, -2.37981071e+01,\n",
       "        -1.93418961e+01, -1.03139915e+01, -2.16966525e-01,\n",
       "         4.20992470e+00, -5.01167870e+00, -8.83488846e+00,\n",
       "        -7.31406403e+00, -1.18175049e+01, -8.08970833e+00,\n",
       "         2.92997575e+00, -1.81098378e+00, -1.18594551e+01,\n",
       "        -6.58104372e+00, -1.45727694e+00, -4.52023745e+00,\n",
       "        -7.14268208e+00, -7.20965004e+00, -2.57195258e+00,\n",
       "         1.54052424e+00, -1.42567647e+00, -5.64197350e+00,\n",
       "        -3.64073324e+00, -3.08759928e+00, -7.32645273e+00,\n",
       "        -6.22884941e+00, -4.04900455e+00, -6.53979063e+00,\n",
       "        -7.20074940e+00, -3.40932560e+00, -2.88726878e+00,\n",
       "        -5.34755707e+00],\n",
       "       [-4.24135925e+02,  1.05441277e+02,  2.53307056e+01,\n",
       "         1.52905531e+01,  1.14813004e+01, -1.05696344e+01,\n",
       "        -1.66665401e+01, -1.72387829e+01, -2.14489479e+01,\n",
       "        -1.53253908e+01, -7.50980377e+00, -9.34123158e-01,\n",
       "         1.71556592e+00, -4.15393448e+00, -7.27671432e+00,\n",
       "        -6.58788586e+00, -9.27002716e+00, -5.11249924e+00,\n",
       "         2.87977123e+00, -4.53068399e+00, -1.24260426e+01,\n",
       "        -6.31274271e+00, -3.48210126e-01, -2.48283672e+00,\n",
       "        -6.39048386e+00, -7.71585846e+00, -3.43375206e+00,\n",
       "         6.99741840e-01, -4.01573706e+00, -7.32606792e+00,\n",
       "        -3.58981037e+00, -2.14379096e+00, -5.43522072e+00,\n",
       "        -4.65692520e+00, -4.18272972e+00, -7.66508198e+00,\n",
       "        -6.20191097e+00, -2.48317218e+00, -2.83797479e+00,\n",
       "        -4.62903118e+00],\n",
       "       [-4.90740936e+02,  6.38236732e+01,  1.50217066e+01,\n",
       "         4.95755959e+00, -8.87388662e-02, -9.73929501e+00,\n",
       "        -1.25217199e+01, -1.05662041e+01, -8.48113823e+00,\n",
       "        -6.19677973e+00, -2.39629698e+00,  2.95725965e+00,\n",
       "        -8.10778797e-01, -6.03799677e+00, -4.15275812e+00,\n",
       "        -6.11150312e+00, -1.06848478e+01, -8.61826515e+00,\n",
       "        -5.35060453e+00, -2.88273120e+00, -5.40928304e-01,\n",
       "        -2.01903033e+00, -3.52674150e+00, -2.93446231e+00,\n",
       "        -2.57971501e+00, -7.56272912e-01, -7.92381912e-02,\n",
       "        -2.73999763e+00, -3.60898733e+00, -1.97771966e+00,\n",
       "        -2.35649490e+00, -4.32488537e+00, -4.99243259e+00,\n",
       "        -3.00970149e+00, -1.19275355e+00, -2.43179822e+00,\n",
       "        -3.85488725e+00, -2.92985082e+00, -2.61018372e+00,\n",
       "        -4.19158602e+00],\n",
       "       [-4.21246216e+02,  1.17208748e+02,  2.59272709e+01,\n",
       "         1.41272573e+01,  1.24109850e+01, -9.00865841e+00,\n",
       "        -1.50867929e+01, -1.76245651e+01, -2.61428814e+01,\n",
       "        -2.05888462e+01, -7.91160059e+00,  3.81341290e+00,\n",
       "         4.26307726e+00, -7.77001953e+00, -1.18680477e+01,\n",
       "        -7.05777788e+00, -7.18311167e+00, -3.32806253e+00,\n",
       "         4.22786951e+00, -4.14799452e+00, -1.31099749e+01,\n",
       "        -6.41103792e+00, -3.24200302e-01, -3.80180621e+00,\n",
       "        -8.17074585e+00, -8.53962517e+00, -2.37433863e+00,\n",
       "         1.56852567e+00, -4.38262224e+00, -7.39439631e+00,\n",
       "        -2.91006565e+00, -3.73370671e+00, -8.33319378e+00,\n",
       "        -4.68516397e+00, -4.02066374e+00, -8.74005222e+00,\n",
       "        -6.11757565e+00, -1.29673660e+00, -3.17517805e+00,\n",
       "        -4.94751358e+00],\n",
       "       [-4.47129517e+02,  1.05818260e+02,  2.36679955e+01,\n",
       "         1.42242298e+01,  1.10825195e+01, -9.13717270e+00,\n",
       "        -1.37181883e+01, -1.55606775e+01, -2.18823261e+01,\n",
       "        -1.77104588e+01, -8.16086388e+00,  1.29270387e+00,\n",
       "         2.83100462e+00, -6.61786079e+00, -9.55170059e+00,\n",
       "        -5.30578566e+00, -6.16561460e+00, -1.71250141e+00,\n",
       "         6.26496983e+00, -1.94812489e+00, -1.13664236e+01,\n",
       "        -5.90026665e+00, -7.29060471e-01, -3.64489937e+00,\n",
       "        -7.07375336e+00, -7.23926497e+00, -2.59121823e+00,\n",
       "         1.85513616e+00, -2.13836741e+00, -5.50515938e+00,\n",
       "        -3.19150209e+00, -4.11228180e+00, -6.48749304e+00,\n",
       "        -3.52777696e+00, -2.61508322e+00, -6.37032413e+00,\n",
       "        -4.70872307e+00, -1.56863630e+00, -3.59277964e+00,\n",
       "        -4.61542273e+00],\n",
       "       [-4.60680664e+02,  5.16604309e+01,  1.43180885e+01,\n",
       "         4.93159580e+00,  6.72035336e-01, -4.94103241e+00,\n",
       "        -5.45737028e+00, -5.65024376e+00, -4.90623903e+00,\n",
       "        -4.34019089e+00, -2.11700392e+00,  2.70518255e+00,\n",
       "        -2.30443895e-01, -5.48538685e+00, -2.88982868e+00,\n",
       "        -2.96510124e+00, -7.41794968e+00, -6.92631578e+00,\n",
       "        -4.39391422e+00, -2.58832049e+00, -5.51192939e-01,\n",
       "        -6.49427414e-01, -1.74017501e+00, -1.89388621e+00,\n",
       "        -1.14064157e+00,  7.83739924e-01,  4.14739251e-01,\n",
       "        -3.31378055e+00, -4.64680624e+00, -2.46639585e+00,\n",
       "        -1.30428267e+00, -2.54646349e+00, -4.21359634e+00,\n",
       "        -4.18136406e+00, -3.59405637e+00, -4.73167801e+00,\n",
       "        -4.97269535e+00, -3.09885621e+00, -3.11188269e+00,\n",
       "        -4.80798149e+00],\n",
       "       [-4.75878967e+02,  5.93526497e+01,  1.98473663e+01,\n",
       "         7.04465818e+00,  4.16454315e-01, -7.75124502e+00,\n",
       "        -1.03230247e+01, -9.52239132e+00, -6.42626905e+00,\n",
       "        -4.69853163e+00, -2.18920565e+00,  3.05615830e+00,\n",
       "         1.80011243e-01, -5.89948559e+00, -3.68284893e+00,\n",
       "        -3.38318920e+00, -7.88265705e+00, -7.08763885e+00,\n",
       "        -3.59724045e+00, -2.53124905e+00, -2.51865792e+00,\n",
       "        -2.78744316e+00, -2.68564010e+00, -2.38971829e+00,\n",
       "        -1.60756969e+00,  1.46832645e-01, -1.30506501e-01,\n",
       "        -2.45129728e+00, -2.83616114e+00, -1.27049899e+00,\n",
       "        -1.19130266e+00, -3.82848716e+00, -4.94132853e+00,\n",
       "        -1.94346344e+00, -5.39789736e-01, -2.92470622e+00,\n",
       "        -3.66342688e+00, -2.69915795e+00, -3.20852399e+00,\n",
       "        -3.84599900e+00]], dtype=float32)"
      ]
     },
     "execution_count": 167,
     "metadata": {},
     "output_type": "execute_result"
    }
   ],
   "source": [
    "X_train"
   ]
  },
  {
   "cell_type": "code",
   "execution_count": 168,
   "id": "female-study",
   "metadata": {
    "colab": {
     "base_uri": "https://localhost:8080/"
    },
    "executionInfo": {
     "elapsed": 664,
     "status": "ok",
     "timestamp": 1695554672491,
     "user": {
      "displayName": "Prit Chavda",
      "userId": "08447455138167255488"
     },
     "user_tz": -330
    },
    "id": "female-study",
    "outputId": "353c1550-10fa-4331-b5ed-1ebe644cc8a7"
   },
   "outputs": [
    {
     "data": {
      "text/plain": [
       "array([[0., 1.],\n",
       "       [0., 1.],\n",
       "       [0., 1.],\n",
       "       [0., 1.],\n",
       "       [0., 1.],\n",
       "       [0., 1.],\n",
       "       [0., 1.],\n",
       "       [0., 1.],\n",
       "       [0., 1.],\n",
       "       [0., 1.],\n",
       "       [1., 0.],\n",
       "       [1., 0.],\n",
       "       [1., 0.],\n",
       "       [1., 0.],\n",
       "       [1., 0.],\n",
       "       [1., 0.],\n",
       "       [1., 0.],\n",
       "       [1., 0.],\n",
       "       [1., 0.],\n",
       "       [1., 0.],\n",
       "       [1., 0.],\n",
       "       [1., 0.]], dtype=float32)"
      ]
     },
     "execution_count": 168,
     "metadata": {},
     "output_type": "execute_result"
    }
   ],
   "source": [
    "y"
   ]
  },
  {
   "cell_type": "code",
   "execution_count": 169,
   "id": "flexible-lithuania",
   "metadata": {
    "colab": {
     "base_uri": "https://localhost:8080/"
    },
    "executionInfo": {
     "elapsed": 454,
     "status": "ok",
     "timestamp": 1695554675745,
     "user": {
      "displayName": "Prit Chavda",
      "userId": "08447455138167255488"
     },
     "user_tz": -330
    },
    "id": "flexible-lithuania",
    "outputId": "64b07066-aea4-43af-c540-947ec4f0b4b8"
   },
   "outputs": [
    {
     "data": {
      "text/plain": [
       "(17, 40)"
      ]
     },
     "execution_count": 169,
     "metadata": {},
     "output_type": "execute_result"
    }
   ],
   "source": [
    "X_train.shape"
   ]
  },
  {
   "cell_type": "code",
   "execution_count": 170,
   "id": "instrumental-equity",
   "metadata": {
    "colab": {
     "base_uri": "https://localhost:8080/"
    },
    "executionInfo": {
     "elapsed": 453,
     "status": "ok",
     "timestamp": 1695554678319,
     "user": {
      "displayName": "Prit Chavda",
      "userId": "08447455138167255488"
     },
     "user_tz": -330
    },
    "id": "instrumental-equity",
    "outputId": "e89e07b0-3649-40a2-d765-6147bb0056fd"
   },
   "outputs": [
    {
     "data": {
      "text/plain": [
       "(5, 40)"
      ]
     },
     "execution_count": 170,
     "metadata": {},
     "output_type": "execute_result"
    }
   ],
   "source": [
    "X_test.shape"
   ]
  },
  {
   "cell_type": "code",
   "execution_count": 171,
   "id": "chemical-vermont",
   "metadata": {
    "colab": {
     "base_uri": "https://localhost:8080/"
    },
    "executionInfo": {
     "elapsed": 3,
     "status": "ok",
     "timestamp": 1695554680292,
     "user": {
      "displayName": "Prit Chavda",
      "userId": "08447455138167255488"
     },
     "user_tz": -330
    },
    "id": "chemical-vermont",
    "outputId": "bb8e5d0d-2c7b-4724-d53b-10a0f4d218f0"
   },
   "outputs": [
    {
     "data": {
      "text/plain": [
       "(17, 2)"
      ]
     },
     "execution_count": 171,
     "metadata": {},
     "output_type": "execute_result"
    }
   ],
   "source": [
    "y_train.shape"
   ]
  },
  {
   "cell_type": "code",
   "execution_count": 172,
   "id": "governing-natural",
   "metadata": {
    "colab": {
     "base_uri": "https://localhost:8080/"
    },
    "executionInfo": {
     "elapsed": 536,
     "status": "ok",
     "timestamp": 1695554682300,
     "user": {
      "displayName": "Prit Chavda",
      "userId": "08447455138167255488"
     },
     "user_tz": -330
    },
    "id": "governing-natural",
    "outputId": "5cda25d6-6ad7-452b-88e6-5024be189b01"
   },
   "outputs": [
    {
     "data": {
      "text/plain": [
       "(5, 2)"
      ]
     },
     "execution_count": 172,
     "metadata": {},
     "output_type": "execute_result"
    }
   ],
   "source": [
    "y_test.shape"
   ]
  },
  {
   "cell_type": "markdown",
   "id": "express-vessel",
   "metadata": {
    "id": "express-vessel"
   },
   "source": [
    "### Model Creation"
   ]
  },
  {
   "cell_type": "code",
   "execution_count": 173,
   "id": "loose-portugal",
   "metadata": {
    "colab": {
     "base_uri": "https://localhost:8080/"
    },
    "executionInfo": {
     "elapsed": 445,
     "status": "ok",
     "timestamp": 1695554685767,
     "user": {
      "displayName": "Prit Chavda",
      "userId": "08447455138167255488"
     },
     "user_tz": -330
    },
    "id": "loose-portugal",
    "outputId": "59d03d2a-dbbf-4171-d424-76f4cff2a252"
   },
   "outputs": [
    {
     "name": "stdout",
     "output_type": "stream",
     "text": [
      "2.13.0\n"
     ]
    }
   ],
   "source": [
    "import tensorflow as tf\n",
    "print(tf.__version__)"
   ]
  },
  {
   "cell_type": "code",
   "execution_count": 174,
   "id": "indonesian-accessory",
   "metadata": {
    "executionInfo": {
     "elapsed": 2,
     "status": "ok",
     "timestamp": 1695554687978,
     "user": {
      "displayName": "Prit Chavda",
      "userId": "08447455138167255488"
     },
     "user_tz": -330
    },
    "id": "indonesian-accessory"
   },
   "outputs": [],
   "source": [
    "from tensorflow.keras.models import Sequential\n",
    "from tensorflow.keras.layers import Dense,Dropout,Activation,Flatten\n",
    "from tensorflow.keras.optimizers import Adam\n",
    "from sklearn import metrics"
   ]
  },
  {
   "cell_type": "code",
   "execution_count": 175,
   "id": "valuable-substitute",
   "metadata": {
    "executionInfo": {
     "elapsed": 2,
     "status": "ok",
     "timestamp": 1695554690824,
     "user": {
      "displayName": "Prit Chavda",
      "userId": "08447455138167255488"
     },
     "user_tz": -330
    },
    "id": "valuable-substitute"
   },
   "outputs": [],
   "source": [
    "### No of classes\n",
    "num_labels=y.shape[1]"
   ]
  },
  {
   "cell_type": "code",
   "execution_count": null,
   "id": "choice-contract",
   "metadata": {
    "id": "choice-contract"
   },
   "outputs": [],
   "source": []
  },
  {
   "cell_type": "code",
   "execution_count": 176,
   "id": "found-outside",
   "metadata": {
    "executionInfo": {
     "elapsed": 447,
     "status": "ok",
     "timestamp": 1695554695058,
     "user": {
      "displayName": "Prit Chavda",
      "userId": "08447455138167255488"
     },
     "user_tz": -330
    },
    "id": "found-outside"
   },
   "outputs": [],
   "source": [
    "model=Sequential()\n",
    "###first layer\n",
    "model.add(Dense(100,input_shape=(40,)))\n",
    "model.add(Activation('relu'))\n",
    "model.add(Dropout(0.5))\n",
    "###second layer\n",
    "model.add(Dense(200))\n",
    "model.add(Activation('relu'))\n",
    "model.add(Dropout(0.5))\n",
    "###third layer\n",
    "model.add(Dense(100))\n",
    "model.add(Activation('relu'))\n",
    "model.add(Dropout(0.5))\n",
    "\n",
    "###final layer\n",
    "model.add(Dense(num_labels))\n",
    "model.add(Activation('softmax'))"
   ]
  },
  {
   "cell_type": "code",
   "execution_count": 177,
   "id": "described-anaheim",
   "metadata": {
    "colab": {
     "base_uri": "https://localhost:8080/"
    },
    "executionInfo": {
     "elapsed": 738,
     "status": "ok",
     "timestamp": 1695554698127,
     "user": {
      "displayName": "Prit Chavda",
      "userId": "08447455138167255488"
     },
     "user_tz": -330
    },
    "id": "described-anaheim",
    "outputId": "dd5b7d28-7b14-4f71-fa49-610d678e4d33"
   },
   "outputs": [
    {
     "name": "stdout",
     "output_type": "stream",
     "text": [
      "Model: \"sequential_1\"\n",
      "_________________________________________________________________\n",
      " Layer (type)                Output Shape              Param #   \n",
      "=================================================================\n",
      " dense_4 (Dense)             (None, 100)               4100      \n",
      "                                                                 \n",
      " activation_4 (Activation)   (None, 100)               0         \n",
      "                                                                 \n",
      " dropout_3 (Dropout)         (None, 100)               0         \n",
      "                                                                 \n",
      " dense_5 (Dense)             (None, 200)               20200     \n",
      "                                                                 \n",
      " activation_5 (Activation)   (None, 200)               0         \n",
      "                                                                 \n",
      " dropout_4 (Dropout)         (None, 200)               0         \n",
      "                                                                 \n",
      " dense_6 (Dense)             (None, 100)               20100     \n",
      "                                                                 \n",
      " activation_6 (Activation)   (None, 100)               0         \n",
      "                                                                 \n",
      " dropout_5 (Dropout)         (None, 100)               0         \n",
      "                                                                 \n",
      " dense_7 (Dense)             (None, 2)                 202       \n",
      "                                                                 \n",
      " activation_7 (Activation)   (None, 2)                 0         \n",
      "                                                                 \n",
      "=================================================================\n",
      "Total params: 44602 (174.23 KB)\n",
      "Trainable params: 44602 (174.23 KB)\n",
      "Non-trainable params: 0 (0.00 Byte)\n",
      "_________________________________________________________________\n"
     ]
    }
   ],
   "source": [
    "model.summary()"
   ]
  },
  {
   "cell_type": "code",
   "execution_count": 178,
   "id": "radical-finding",
   "metadata": {
    "executionInfo": {
     "elapsed": 801,
     "status": "ok",
     "timestamp": 1695554703204,
     "user": {
      "displayName": "Prit Chavda",
      "userId": "08447455138167255488"
     },
     "user_tz": -330
    },
    "id": "radical-finding"
   },
   "outputs": [],
   "source": [
    "model.compile(loss='categorical_crossentropy',metrics=['accuracy'],optimizer='adam')"
   ]
  },
  {
   "cell_type": "code",
   "execution_count": 179,
   "id": "alpha-adapter",
   "metadata": {
    "colab": {
     "base_uri": "https://localhost:8080/"
    },
    "executionInfo": {
     "elapsed": 11833,
     "status": "ok",
     "timestamp": 1695554716521,
     "user": {
      "displayName": "Prit Chavda",
      "userId": "08447455138167255488"
     },
     "user_tz": -330
    },
    "id": "alpha-adapter",
    "outputId": "4e19e19c-6261-41e2-fea9-ef8ce7c8c827"
   },
   "outputs": [
    {
     "name": "stdout",
     "output_type": "stream",
     "text": [
      "Epoch 1/100\n",
      "1/1 [==============================] - ETA: 0s - loss: 27.0596 - accuracy: 0.4706\n",
      "Epoch 1: val_loss improved from inf to 3.34810, saving model to /content/drive/MyDrive/Audio-Classification-main/UrbanSound8K/saved_models/audio_classification.hdf5\n",
      "1/1 [==============================] - 1s 1s/step - loss: 27.0596 - accuracy: 0.4706 - val_loss: 3.3481 - val_accuracy: 0.2000\n",
      "Epoch 2/100\n",
      "1/1 [==============================] - ETA: 0s - loss: 24.8395 - accuracy: 0.5294\n",
      "Epoch 2: val_loss did not improve from 3.34810\n",
      "1/1 [==============================] - 0s 49ms/step - loss: 24.8395 - accuracy: 0.5294 - val_loss: 9.0135 - val_accuracy: 0.2000\n",
      "Epoch 3/100\n",
      "1/1 [==============================] - ETA: 0s - loss: 33.3451 - accuracy: 0.4706\n",
      "Epoch 3: val_loss did not improve from 3.34810\n",
      "1/1 [==============================] - 0s 76ms/step - loss: 33.3451 - accuracy: 0.4706 - val_loss: 11.3243 - val_accuracy: 0.2000\n",
      "Epoch 4/100\n",
      "1/1 [==============================] - ETA: 0s - loss: 56.3022 - accuracy: 0.3529"
     ]
    },
    {
     "name": "stderr",
     "output_type": "stream",
     "text": [
      "/usr/local/lib/python3.10/dist-packages/keras/src/engine/training.py:3000: UserWarning: You are saving your model as an HDF5 file via `model.save()`. This file format is considered legacy. We recommend using instead the native Keras format, e.g. `model.save('my_model.keras')`.\n",
      "  saving_api.save_model(\n"
     ]
    },
    {
     "name": "stdout",
     "output_type": "stream",
     "text": [
      "\n",
      "Epoch 4: val_loss did not improve from 3.34810\n",
      "1/1 [==============================] - 0s 46ms/step - loss: 56.3022 - accuracy: 0.3529 - val_loss: 12.5974 - val_accuracy: 0.2000\n",
      "Epoch 5/100\n",
      "1/1 [==============================] - ETA: 0s - loss: 23.4480 - accuracy: 0.6471\n",
      "Epoch 5: val_loss did not improve from 3.34810\n",
      "1/1 [==============================] - 0s 44ms/step - loss: 23.4480 - accuracy: 0.6471 - val_loss: 12.6265 - val_accuracy: 0.2000\n",
      "Epoch 6/100\n",
      "1/1 [==============================] - ETA: 0s - loss: 31.1563 - accuracy: 0.5882\n",
      "Epoch 6: val_loss did not improve from 3.34810\n",
      "1/1 [==============================] - 0s 66ms/step - loss: 31.1563 - accuracy: 0.5882 - val_loss: 10.0299 - val_accuracy: 0.2000\n",
      "Epoch 7/100\n",
      "1/1 [==============================] - ETA: 0s - loss: 19.9720 - accuracy: 0.5294\n",
      "Epoch 7: val_loss did not improve from 3.34810\n",
      "1/1 [==============================] - 0s 63ms/step - loss: 19.9720 - accuracy: 0.5294 - val_loss: 9.1243 - val_accuracy: 0.2000\n",
      "Epoch 8/100\n",
      "1/1 [==============================] - ETA: 0s - loss: 34.8356 - accuracy: 0.4706\n",
      "Epoch 8: val_loss did not improve from 3.34810\n",
      "1/1 [==============================] - 0s 68ms/step - loss: 34.8356 - accuracy: 0.4706 - val_loss: 7.0708 - val_accuracy: 0.2000\n",
      "Epoch 9/100\n",
      "1/1 [==============================] - ETA: 0s - loss: 26.7507 - accuracy: 0.5294\n",
      "Epoch 9: val_loss did not improve from 3.34810\n",
      "1/1 [==============================] - 0s 53ms/step - loss: 26.7507 - accuracy: 0.5294 - val_loss: 4.8025 - val_accuracy: 0.2000\n",
      "Epoch 10/100\n",
      "1/1 [==============================] - ETA: 0s - loss: 25.4076 - accuracy: 0.5882\n",
      "Epoch 10: val_loss improved from 3.34810 to 2.95008, saving model to /content/drive/MyDrive/Audio-Classification-main/UrbanSound8K/saved_models/audio_classification.hdf5\n",
      "1/1 [==============================] - 0s 91ms/step - loss: 25.4076 - accuracy: 0.5882 - val_loss: 2.9501 - val_accuracy: 0.2000\n",
      "Epoch 11/100\n",
      "1/1 [==============================] - ETA: 0s - loss: 29.1369 - accuracy: 0.5882\n",
      "Epoch 11: val_loss improved from 2.95008 to 0.86864, saving model to /content/drive/MyDrive/Audio-Classification-main/UrbanSound8K/saved_models/audio_classification.hdf5\n",
      "1/1 [==============================] - 0s 106ms/step - loss: 29.1369 - accuracy: 0.5882 - val_loss: 0.8686 - val_accuracy: 0.2000\n",
      "Epoch 12/100\n",
      "1/1 [==============================] - ETA: 0s - loss: 33.5818 - accuracy: 0.5882\n",
      "Epoch 12: val_loss improved from 0.86864 to 0.25514, saving model to /content/drive/MyDrive/Audio-Classification-main/UrbanSound8K/saved_models/audio_classification.hdf5\n",
      "1/1 [==============================] - 0s 108ms/step - loss: 33.5818 - accuracy: 0.5882 - val_loss: 0.2551 - val_accuracy: 1.0000\n",
      "Epoch 13/100\n",
      "1/1 [==============================] - ETA: 0s - loss: 17.4496 - accuracy: 0.4706\n",
      "Epoch 13: val_loss did not improve from 0.25514\n",
      "1/1 [==============================] - 0s 50ms/step - loss: 17.4496 - accuracy: 0.4706 - val_loss: 0.7614 - val_accuracy: 0.4000\n",
      "Epoch 14/100\n",
      "1/1 [==============================] - ETA: 0s - loss: 21.0940 - accuracy: 0.5882\n",
      "Epoch 14: val_loss did not improve from 0.25514\n",
      "1/1 [==============================] - 0s 70ms/step - loss: 21.0940 - accuracy: 0.5882 - val_loss: 0.8598 - val_accuracy: 0.2000\n",
      "Epoch 15/100\n",
      "1/1 [==============================] - ETA: 0s - loss: 41.4295 - accuracy: 0.3529\n",
      "Epoch 15: val_loss did not improve from 0.25514\n",
      "1/1 [==============================] - 0s 62ms/step - loss: 41.4295 - accuracy: 0.3529 - val_loss: 0.8560 - val_accuracy: 0.4000\n",
      "Epoch 16/100\n",
      "1/1 [==============================] - ETA: 0s - loss: 12.7851 - accuracy: 0.5294\n",
      "Epoch 16: val_loss did not improve from 0.25514\n",
      "1/1 [==============================] - 0s 79ms/step - loss: 12.7851 - accuracy: 0.5294 - val_loss: 1.0776 - val_accuracy: 0.2000\n",
      "Epoch 17/100\n",
      "1/1 [==============================] - ETA: 0s - loss: 23.7438 - accuracy: 0.5882\n",
      "Epoch 17: val_loss did not improve from 0.25514\n",
      "1/1 [==============================] - 0s 66ms/step - loss: 23.7438 - accuracy: 0.5882 - val_loss: 0.7789 - val_accuracy: 0.6000\n",
      "Epoch 18/100\n",
      "1/1 [==============================] - ETA: 0s - loss: 24.1096 - accuracy: 0.5294\n",
      "Epoch 18: val_loss did not improve from 0.25514\n",
      "1/1 [==============================] - 0s 69ms/step - loss: 24.1096 - accuracy: 0.5294 - val_loss: 0.4903 - val_accuracy: 0.8000\n",
      "Epoch 19/100\n",
      "1/1 [==============================] - ETA: 0s - loss: 54.5572 - accuracy: 0.2941\n",
      "Epoch 19: val_loss did not improve from 0.25514\n",
      "1/1 [==============================] - 0s 47ms/step - loss: 54.5572 - accuracy: 0.2941 - val_loss: 0.2896 - val_accuracy: 1.0000\n",
      "Epoch 20/100\n",
      "1/1 [==============================] - ETA: 0s - loss: 27.3721 - accuracy: 0.5882\n",
      "Epoch 20: val_loss improved from 0.25514 to 0.20724, saving model to /content/drive/MyDrive/Audio-Classification-main/UrbanSound8K/saved_models/audio_classification.hdf5\n",
      "1/1 [==============================] - 0s 120ms/step - loss: 27.3721 - accuracy: 0.5882 - val_loss: 0.2072 - val_accuracy: 1.0000\n",
      "Epoch 21/100\n",
      "1/1 [==============================] - ETA: 0s - loss: 18.9415 - accuracy: 0.5882\n",
      "Epoch 21: val_loss did not improve from 0.20724\n",
      "1/1 [==============================] - 0s 64ms/step - loss: 18.9415 - accuracy: 0.5882 - val_loss: 0.2726 - val_accuracy: 1.0000\n",
      "Epoch 22/100\n",
      "1/1 [==============================] - ETA: 0s - loss: 17.6549 - accuracy: 0.5294\n",
      "Epoch 22: val_loss did not improve from 0.20724\n",
      "1/1 [==============================] - 0s 49ms/step - loss: 17.6549 - accuracy: 0.5294 - val_loss: 0.2309 - val_accuracy: 1.0000\n",
      "Epoch 23/100\n",
      "1/1 [==============================] - ETA: 0s - loss: 8.3317 - accuracy: 0.7647\n",
      "Epoch 23: val_loss improved from 0.20724 to 0.17887, saving model to /content/drive/MyDrive/Audio-Classification-main/UrbanSound8K/saved_models/audio_classification.hdf5\n",
      "1/1 [==============================] - 0s 116ms/step - loss: 8.3317 - accuracy: 0.7647 - val_loss: 0.1789 - val_accuracy: 1.0000\n",
      "Epoch 24/100\n",
      "1/1 [==============================] - ETA: 0s - loss: 25.5918 - accuracy: 0.4706\n",
      "Epoch 24: val_loss improved from 0.17887 to 0.12438, saving model to /content/drive/MyDrive/Audio-Classification-main/UrbanSound8K/saved_models/audio_classification.hdf5\n",
      "1/1 [==============================] - 0s 161ms/step - loss: 25.5918 - accuracy: 0.4706 - val_loss: 0.1244 - val_accuracy: 1.0000\n",
      "Epoch 25/100\n",
      "1/1 [==============================] - ETA: 0s - loss: 20.9630 - accuracy: 0.5294\n",
      "Epoch 25: val_loss did not improve from 0.12438\n",
      "1/1 [==============================] - 0s 63ms/step - loss: 20.9630 - accuracy: 0.5294 - val_loss: 0.1659 - val_accuracy: 1.0000\n",
      "Epoch 26/100\n",
      "1/1 [==============================] - ETA: 0s - loss: 23.7787 - accuracy: 0.5294\n",
      "Epoch 26: val_loss did not improve from 0.12438\n",
      "1/1 [==============================] - 0s 66ms/step - loss: 23.7787 - accuracy: 0.5294 - val_loss: 0.2575 - val_accuracy: 1.0000\n",
      "Epoch 27/100\n",
      "1/1 [==============================] - ETA: 0s - loss: 20.2539 - accuracy: 0.4118\n",
      "Epoch 27: val_loss did not improve from 0.12438\n",
      "1/1 [==============================] - 0s 56ms/step - loss: 20.2539 - accuracy: 0.4118 - val_loss: 0.4319 - val_accuracy: 0.8000\n",
      "Epoch 28/100\n",
      "1/1 [==============================] - ETA: 0s - loss: 30.8041 - accuracy: 0.2941\n",
      "Epoch 28: val_loss did not improve from 0.12438\n",
      "1/1 [==============================] - 0s 76ms/step - loss: 30.8041 - accuracy: 0.2941 - val_loss: 0.6324 - val_accuracy: 0.6000\n",
      "Epoch 29/100\n",
      "1/1 [==============================] - ETA: 0s - loss: 12.9071 - accuracy: 0.5294\n",
      "Epoch 29: val_loss did not improve from 0.12438\n",
      "1/1 [==============================] - 0s 61ms/step - loss: 12.9071 - accuracy: 0.5294 - val_loss: 1.1041 - val_accuracy: 0.2000\n",
      "Epoch 30/100\n",
      "1/1 [==============================] - ETA: 0s - loss: 18.3874 - accuracy: 0.3529\n",
      "Epoch 30: val_loss did not improve from 0.12438\n",
      "1/1 [==============================] - 0s 70ms/step - loss: 18.3874 - accuracy: 0.3529 - val_loss: 1.4496 - val_accuracy: 0.2000\n",
      "Epoch 31/100\n",
      "1/1 [==============================] - ETA: 0s - loss: 19.0394 - accuracy: 0.3529\n",
      "Epoch 31: val_loss did not improve from 0.12438\n",
      "1/1 [==============================] - 0s 56ms/step - loss: 19.0394 - accuracy: 0.3529 - val_loss: 1.6785 - val_accuracy: 0.2000\n",
      "Epoch 32/100\n",
      "1/1 [==============================] - ETA: 0s - loss: 23.3482 - accuracy: 0.5882\n",
      "Epoch 32: val_loss did not improve from 0.12438\n",
      "1/1 [==============================] - 0s 66ms/step - loss: 23.3482 - accuracy: 0.5882 - val_loss: 1.2181 - val_accuracy: 0.2000\n",
      "Epoch 33/100\n",
      "1/1 [==============================] - ETA: 0s - loss: 20.9559 - accuracy: 0.4118\n",
      "Epoch 33: val_loss did not improve from 0.12438\n",
      "1/1 [==============================] - 0s 73ms/step - loss: 20.9559 - accuracy: 0.4118 - val_loss: 0.4066 - val_accuracy: 0.8000\n",
      "Epoch 34/100\n",
      "1/1 [==============================] - ETA: 0s - loss: 29.3463 - accuracy: 0.5294\n",
      "Epoch 34: val_loss did not improve from 0.12438\n",
      "1/1 [==============================] - 0s 71ms/step - loss: 29.3463 - accuracy: 0.5294 - val_loss: 0.1581 - val_accuracy: 1.0000\n",
      "Epoch 35/100\n",
      "1/1 [==============================] - ETA: 0s - loss: 10.5246 - accuracy: 0.6471\n",
      "Epoch 35: val_loss did not improve from 0.12438\n",
      "1/1 [==============================] - 0s 64ms/step - loss: 10.5246 - accuracy: 0.6471 - val_loss: 0.3898 - val_accuracy: 0.8000\n",
      "Epoch 36/100\n",
      "1/1 [==============================] - ETA: 0s - loss: 17.0258 - accuracy: 0.4118\n",
      "Epoch 36: val_loss did not improve from 0.12438\n",
      "1/1 [==============================] - 0s 70ms/step - loss: 17.0258 - accuracy: 0.4118 - val_loss: 0.6913 - val_accuracy: 0.8000\n",
      "Epoch 37/100\n",
      "1/1 [==============================] - ETA: 0s - loss: 12.1279 - accuracy: 0.5882\n",
      "Epoch 37: val_loss did not improve from 0.12438\n",
      "1/1 [==============================] - 0s 55ms/step - loss: 12.1279 - accuracy: 0.5882 - val_loss: 0.8420 - val_accuracy: 0.8000\n",
      "Epoch 38/100\n",
      "1/1 [==============================] - ETA: 0s - loss: 8.6495 - accuracy: 0.7059\n",
      "Epoch 38: val_loss did not improve from 0.12438\n",
      "1/1 [==============================] - 0s 82ms/step - loss: 8.6495 - accuracy: 0.7059 - val_loss: 0.9806 - val_accuracy: 0.8000\n",
      "Epoch 39/100\n",
      "1/1 [==============================] - ETA: 0s - loss: 20.4218 - accuracy: 0.2941\n",
      "Epoch 39: val_loss did not improve from 0.12438\n",
      "1/1 [==============================] - 0s 57ms/step - loss: 20.4218 - accuracy: 0.2941 - val_loss: 1.0326 - val_accuracy: 0.8000\n",
      "Epoch 40/100\n",
      "1/1 [==============================] - ETA: 0s - loss: 19.6501 - accuracy: 0.5882\n",
      "Epoch 40: val_loss did not improve from 0.12438\n",
      "1/1 [==============================] - 0s 57ms/step - loss: 19.6501 - accuracy: 0.5882 - val_loss: 1.0409 - val_accuracy: 0.8000\n",
      "Epoch 41/100\n",
      "1/1 [==============================] - ETA: 0s - loss: 18.9709 - accuracy: 0.5294\n",
      "Epoch 41: val_loss did not improve from 0.12438\n",
      "1/1 [==============================] - 0s 52ms/step - loss: 18.9709 - accuracy: 0.5294 - val_loss: 1.0198 - val_accuracy: 0.8000\n",
      "Epoch 42/100\n",
      "1/1 [==============================] - ETA: 0s - loss: 10.1887 - accuracy: 0.6471\n",
      "Epoch 42: val_loss did not improve from 0.12438\n",
      "1/1 [==============================] - 0s 83ms/step - loss: 10.1887 - accuracy: 0.6471 - val_loss: 0.9254 - val_accuracy: 0.8000\n",
      "Epoch 43/100\n",
      "1/1 [==============================] - ETA: 0s - loss: 12.4451 - accuracy: 0.5882\n",
      "Epoch 43: val_loss did not improve from 0.12438\n",
      "1/1 [==============================] - 0s 63ms/step - loss: 12.4451 - accuracy: 0.5882 - val_loss: 0.8154 - val_accuracy: 0.8000\n",
      "Epoch 44/100\n",
      "1/1 [==============================] - ETA: 0s - loss: 10.6059 - accuracy: 0.7059\n",
      "Epoch 44: val_loss did not improve from 0.12438\n",
      "1/1 [==============================] - 0s 82ms/step - loss: 10.6059 - accuracy: 0.7059 - val_loss: 0.7516 - val_accuracy: 0.8000\n",
      "Epoch 45/100\n",
      "1/1 [==============================] - ETA: 0s - loss: 19.1959 - accuracy: 0.6471\n",
      "Epoch 45: val_loss did not improve from 0.12438\n",
      "1/1 [==============================] - 0s 75ms/step - loss: 19.1959 - accuracy: 0.6471 - val_loss: 0.6775 - val_accuracy: 0.8000\n",
      "Epoch 46/100\n",
      "1/1 [==============================] - ETA: 0s - loss: 15.3081 - accuracy: 0.5294\n",
      "Epoch 46: val_loss did not improve from 0.12438\n",
      "1/1 [==============================] - 0s 75ms/step - loss: 15.3081 - accuracy: 0.5294 - val_loss: 0.6017 - val_accuracy: 0.8000\n",
      "Epoch 47/100\n",
      "1/1 [==============================] - ETA: 0s - loss: 19.2854 - accuracy: 0.4118\n",
      "Epoch 47: val_loss did not improve from 0.12438\n",
      "1/1 [==============================] - 0s 75ms/step - loss: 19.2854 - accuracy: 0.4118 - val_loss: 0.5383 - val_accuracy: 0.8000\n",
      "Epoch 48/100\n",
      "1/1 [==============================] - ETA: 0s - loss: 8.8616 - accuracy: 0.7647\n",
      "Epoch 48: val_loss did not improve from 0.12438\n",
      "1/1 [==============================] - 0s 59ms/step - loss: 8.8616 - accuracy: 0.7647 - val_loss: 0.5131 - val_accuracy: 0.8000\n",
      "Epoch 49/100\n",
      "1/1 [==============================] - ETA: 0s - loss: 16.1629 - accuracy: 0.4706\n",
      "Epoch 49: val_loss did not improve from 0.12438\n",
      "1/1 [==============================] - 0s 77ms/step - loss: 16.1629 - accuracy: 0.4706 - val_loss: 0.4277 - val_accuracy: 0.8000\n",
      "Epoch 50/100\n",
      "1/1 [==============================] - ETA: 0s - loss: 4.2572 - accuracy: 0.7647\n",
      "Epoch 50: val_loss did not improve from 0.12438\n",
      "1/1 [==============================] - 0s 77ms/step - loss: 4.2572 - accuracy: 0.7647 - val_loss: 0.3933 - val_accuracy: 0.8000\n",
      "Epoch 51/100\n",
      "1/1 [==============================] - ETA: 0s - loss: 14.8645 - accuracy: 0.4118\n",
      "Epoch 51: val_loss did not improve from 0.12438\n",
      "1/1 [==============================] - 0s 80ms/step - loss: 14.8645 - accuracy: 0.4118 - val_loss: 0.3657 - val_accuracy: 0.8000\n",
      "Epoch 52/100\n",
      "1/1 [==============================] - ETA: 0s - loss: 10.2163 - accuracy: 0.7059\n",
      "Epoch 52: val_loss did not improve from 0.12438\n",
      "1/1 [==============================] - 0s 70ms/step - loss: 10.2163 - accuracy: 0.7059 - val_loss: 0.3719 - val_accuracy: 0.8000\n",
      "Epoch 53/100\n",
      "1/1 [==============================] - ETA: 0s - loss: 7.9876 - accuracy: 0.7059\n",
      "Epoch 53: val_loss did not improve from 0.12438\n",
      "1/1 [==============================] - 0s 92ms/step - loss: 7.9876 - accuracy: 0.7059 - val_loss: 0.4281 - val_accuracy: 0.8000\n",
      "Epoch 54/100\n",
      "1/1 [==============================] - ETA: 0s - loss: 14.6747 - accuracy: 0.4706\n",
      "Epoch 54: val_loss did not improve from 0.12438\n",
      "1/1 [==============================] - 0s 66ms/step - loss: 14.6747 - accuracy: 0.4706 - val_loss: 0.5002 - val_accuracy: 0.8000\n",
      "Epoch 55/100\n",
      "1/1 [==============================] - ETA: 0s - loss: 6.1475 - accuracy: 0.6471\n",
      "Epoch 55: val_loss did not improve from 0.12438\n",
      "1/1 [==============================] - 0s 93ms/step - loss: 6.1475 - accuracy: 0.6471 - val_loss: 0.6214 - val_accuracy: 0.8000\n",
      "Epoch 56/100\n",
      "1/1 [==============================] - ETA: 0s - loss: 8.5407 - accuracy: 0.6471\n",
      "Epoch 56: val_loss did not improve from 0.12438\n",
      "1/1 [==============================] - 0s 96ms/step - loss: 8.5407 - accuracy: 0.6471 - val_loss: 0.7219 - val_accuracy: 0.8000\n",
      "Epoch 57/100\n",
      "1/1 [==============================] - ETA: 0s - loss: 12.6291 - accuracy: 0.5882\n",
      "Epoch 57: val_loss did not improve from 0.12438\n",
      "1/1 [==============================] - 0s 57ms/step - loss: 12.6291 - accuracy: 0.5882 - val_loss: 0.8258 - val_accuracy: 0.8000\n",
      "Epoch 58/100\n",
      "1/1 [==============================] - ETA: 0s - loss: 9.8575 - accuracy: 0.5294\n",
      "Epoch 58: val_loss did not improve from 0.12438\n",
      "1/1 [==============================] - 0s 88ms/step - loss: 9.8575 - accuracy: 0.5294 - val_loss: 0.8834 - val_accuracy: 0.8000\n",
      "Epoch 59/100\n",
      "1/1 [==============================] - ETA: 0s - loss: 7.8598 - accuracy: 0.7059\n",
      "Epoch 59: val_loss did not improve from 0.12438\n",
      "1/1 [==============================] - 0s 69ms/step - loss: 7.8598 - accuracy: 0.7059 - val_loss: 0.9397 - val_accuracy: 0.8000\n",
      "Epoch 60/100\n",
      "1/1 [==============================] - ETA: 0s - loss: 10.0990 - accuracy: 0.5882\n",
      "Epoch 60: val_loss did not improve from 0.12438\n",
      "1/1 [==============================] - 0s 83ms/step - loss: 10.0990 - accuracy: 0.5882 - val_loss: 0.9545 - val_accuracy: 0.8000\n",
      "Epoch 61/100\n",
      "1/1 [==============================] - ETA: 0s - loss: 9.4565 - accuracy: 0.4118\n",
      "Epoch 61: val_loss did not improve from 0.12438\n",
      "1/1 [==============================] - 0s 78ms/step - loss: 9.4565 - accuracy: 0.4118 - val_loss: 0.9442 - val_accuracy: 0.8000\n",
      "Epoch 62/100\n",
      "1/1 [==============================] - ETA: 0s - loss: 6.8218 - accuracy: 0.5882\n",
      "Epoch 62: val_loss did not improve from 0.12438\n",
      "1/1 [==============================] - 0s 76ms/step - loss: 6.8218 - accuracy: 0.5882 - val_loss: 0.9344 - val_accuracy: 0.8000\n",
      "Epoch 63/100\n",
      "1/1 [==============================] - ETA: 0s - loss: 9.5699 - accuracy: 0.5882\n",
      "Epoch 63: val_loss did not improve from 0.12438\n",
      "1/1 [==============================] - 0s 78ms/step - loss: 9.5699 - accuracy: 0.5882 - val_loss: 0.9073 - val_accuracy: 0.8000\n",
      "Epoch 64/100\n",
      "1/1 [==============================] - ETA: 0s - loss: 10.8377 - accuracy: 0.5294\n",
      "Epoch 64: val_loss did not improve from 0.12438\n",
      "1/1 [==============================] - 0s 72ms/step - loss: 10.8377 - accuracy: 0.5294 - val_loss: 0.8933 - val_accuracy: 0.8000\n",
      "Epoch 65/100\n",
      "1/1 [==============================] - ETA: 0s - loss: 8.4499 - accuracy: 0.5294\n",
      "Epoch 65: val_loss did not improve from 0.12438\n",
      "1/1 [==============================] - 0s 61ms/step - loss: 8.4499 - accuracy: 0.5294 - val_loss: 0.8760 - val_accuracy: 0.8000\n",
      "Epoch 66/100\n",
      "1/1 [==============================] - ETA: 0s - loss: 6.0720 - accuracy: 0.6471\n",
      "Epoch 66: val_loss did not improve from 0.12438\n",
      "1/1 [==============================] - 0s 78ms/step - loss: 6.0720 - accuracy: 0.6471 - val_loss: 0.8792 - val_accuracy: 0.8000\n",
      "Epoch 67/100\n",
      "1/1 [==============================] - ETA: 0s - loss: 14.1070 - accuracy: 0.4706\n",
      "Epoch 67: val_loss did not improve from 0.12438\n",
      "1/1 [==============================] - 0s 95ms/step - loss: 14.1070 - accuracy: 0.4706 - val_loss: 0.8363 - val_accuracy: 0.8000\n",
      "Epoch 68/100\n",
      "1/1 [==============================] - ETA: 0s - loss: 8.9279 - accuracy: 0.5882\n",
      "Epoch 68: val_loss did not improve from 0.12438\n",
      "1/1 [==============================] - 0s 76ms/step - loss: 8.9279 - accuracy: 0.5882 - val_loss: 0.7299 - val_accuracy: 0.8000\n",
      "Epoch 69/100\n",
      "1/1 [==============================] - ETA: 0s - loss: 6.8160 - accuracy: 0.5294\n",
      "Epoch 69: val_loss did not improve from 0.12438\n",
      "1/1 [==============================] - 0s 91ms/step - loss: 6.8160 - accuracy: 0.5294 - val_loss: 0.6387 - val_accuracy: 0.8000\n",
      "Epoch 70/100\n",
      "1/1 [==============================] - ETA: 0s - loss: 10.8726 - accuracy: 0.5882\n",
      "Epoch 70: val_loss did not improve from 0.12438\n",
      "1/1 [==============================] - 0s 90ms/step - loss: 10.8726 - accuracy: 0.5882 - val_loss: 0.5782 - val_accuracy: 0.8000\n",
      "Epoch 71/100\n",
      "1/1 [==============================] - ETA: 0s - loss: 7.6395 - accuracy: 0.6471\n",
      "Epoch 71: val_loss did not improve from 0.12438\n",
      "1/1 [==============================] - 0s 80ms/step - loss: 7.6395 - accuracy: 0.6471 - val_loss: 0.5173 - val_accuracy: 0.8000\n",
      "Epoch 72/100\n",
      "1/1 [==============================] - ETA: 0s - loss: 5.7000 - accuracy: 0.7059\n",
      "Epoch 72: val_loss did not improve from 0.12438\n",
      "1/1 [==============================] - 0s 77ms/step - loss: 5.7000 - accuracy: 0.7059 - val_loss: 0.4788 - val_accuracy: 0.8000\n",
      "Epoch 73/100\n",
      "1/1 [==============================] - ETA: 0s - loss: 5.1420 - accuracy: 0.5882\n",
      "Epoch 73: val_loss did not improve from 0.12438\n",
      "1/1 [==============================] - 0s 79ms/step - loss: 5.1420 - accuracy: 0.5882 - val_loss: 0.4276 - val_accuracy: 0.8000\n",
      "Epoch 74/100\n",
      "1/1 [==============================] - ETA: 0s - loss: 10.3567 - accuracy: 0.4118\n",
      "Epoch 74: val_loss did not improve from 0.12438\n",
      "1/1 [==============================] - 0s 85ms/step - loss: 10.3567 - accuracy: 0.4118 - val_loss: 0.3892 - val_accuracy: 0.8000\n",
      "Epoch 75/100\n",
      "1/1 [==============================] - ETA: 0s - loss: 7.1150 - accuracy: 0.6471\n",
      "Epoch 75: val_loss did not improve from 0.12438\n",
      "1/1 [==============================] - 0s 85ms/step - loss: 7.1150 - accuracy: 0.6471 - val_loss: 0.3621 - val_accuracy: 0.8000\n",
      "Epoch 76/100\n",
      "1/1 [==============================] - ETA: 0s - loss: 4.1146 - accuracy: 0.7647\n",
      "Epoch 76: val_loss did not improve from 0.12438\n",
      "1/1 [==============================] - 0s 93ms/step - loss: 4.1146 - accuracy: 0.7647 - val_loss: 0.3449 - val_accuracy: 0.8000\n",
      "Epoch 77/100\n",
      "1/1 [==============================] - ETA: 0s - loss: 5.1886 - accuracy: 0.5882\n",
      "Epoch 77: val_loss did not improve from 0.12438\n",
      "1/1 [==============================] - 0s 93ms/step - loss: 5.1886 - accuracy: 0.5882 - val_loss: 0.3396 - val_accuracy: 0.8000\n",
      "Epoch 78/100\n",
      "1/1 [==============================] - ETA: 0s - loss: 5.5189 - accuracy: 0.4118\n",
      "Epoch 78: val_loss did not improve from 0.12438\n",
      "1/1 [==============================] - 0s 82ms/step - loss: 5.5189 - accuracy: 0.4118 - val_loss: 0.3401 - val_accuracy: 0.8000\n",
      "Epoch 79/100\n",
      "1/1 [==============================] - ETA: 0s - loss: 7.3700 - accuracy: 0.6471\n",
      "Epoch 79: val_loss did not improve from 0.12438\n",
      "1/1 [==============================] - 0s 83ms/step - loss: 7.3700 - accuracy: 0.6471 - val_loss: 0.3522 - val_accuracy: 0.8000\n",
      "Epoch 80/100\n",
      "1/1 [==============================] - ETA: 0s - loss: 12.4745 - accuracy: 0.4118\n",
      "Epoch 80: val_loss did not improve from 0.12438\n",
      "1/1 [==============================] - 0s 92ms/step - loss: 12.4745 - accuracy: 0.4118 - val_loss: 0.3657 - val_accuracy: 0.8000\n",
      "Epoch 81/100\n",
      "1/1 [==============================] - ETA: 0s - loss: 6.3455 - accuracy: 0.4118\n",
      "Epoch 81: val_loss did not improve from 0.12438\n",
      "1/1 [==============================] - 0s 98ms/step - loss: 6.3455 - accuracy: 0.4118 - val_loss: 0.3850 - val_accuracy: 0.8000\n",
      "Epoch 82/100\n",
      "1/1 [==============================] - ETA: 0s - loss: 16.2229 - accuracy: 0.4706\n",
      "Epoch 82: val_loss did not improve from 0.12438\n",
      "1/1 [==============================] - 0s 76ms/step - loss: 16.2229 - accuracy: 0.4706 - val_loss: 0.3980 - val_accuracy: 0.8000\n",
      "Epoch 83/100\n",
      "1/1 [==============================] - ETA: 0s - loss: 9.4720 - accuracy: 0.5882\n",
      "Epoch 83: val_loss did not improve from 0.12438\n",
      "1/1 [==============================] - 0s 94ms/step - loss: 9.4720 - accuracy: 0.5882 - val_loss: 0.4081 - val_accuracy: 0.8000\n",
      "Epoch 84/100\n",
      "1/1 [==============================] - ETA: 0s - loss: 8.2162 - accuracy: 0.3529\n",
      "Epoch 84: val_loss did not improve from 0.12438\n",
      "1/1 [==============================] - 0s 87ms/step - loss: 8.2162 - accuracy: 0.3529 - val_loss: 0.4244 - val_accuracy: 1.0000\n",
      "Epoch 85/100\n",
      "1/1 [==============================] - ETA: 0s - loss: 6.4780 - accuracy: 0.5294\n",
      "Epoch 85: val_loss did not improve from 0.12438\n",
      "1/1 [==============================] - 0s 99ms/step - loss: 6.4780 - accuracy: 0.5294 - val_loss: 0.4109 - val_accuracy: 1.0000\n",
      "Epoch 86/100\n",
      "1/1 [==============================] - ETA: 0s - loss: 9.3169 - accuracy: 0.2941\n",
      "Epoch 86: val_loss did not improve from 0.12438\n",
      "1/1 [==============================] - 0s 80ms/step - loss: 9.3169 - accuracy: 0.2941 - val_loss: 0.3986 - val_accuracy: 1.0000\n",
      "Epoch 87/100\n",
      "1/1 [==============================] - ETA: 0s - loss: 9.5461 - accuracy: 0.4706\n",
      "Epoch 87: val_loss did not improve from 0.12438\n",
      "1/1 [==============================] - 0s 95ms/step - loss: 9.5461 - accuracy: 0.4706 - val_loss: 0.4084 - val_accuracy: 1.0000\n",
      "Epoch 88/100\n",
      "1/1 [==============================] - ETA: 0s - loss: 7.0309 - accuracy: 0.4118\n",
      "Epoch 88: val_loss did not improve from 0.12438\n",
      "1/1 [==============================] - 0s 91ms/step - loss: 7.0309 - accuracy: 0.4118 - val_loss: 0.4048 - val_accuracy: 1.0000\n",
      "Epoch 89/100\n",
      "1/1 [==============================] - ETA: 0s - loss: 7.1062 - accuracy: 0.4706\n",
      "Epoch 89: val_loss did not improve from 0.12438\n",
      "1/1 [==============================] - 0s 90ms/step - loss: 7.1062 - accuracy: 0.4706 - val_loss: 0.4140 - val_accuracy: 1.0000\n",
      "Epoch 90/100\n",
      "1/1 [==============================] - ETA: 0s - loss: 13.5171 - accuracy: 0.3529\n",
      "Epoch 90: val_loss did not improve from 0.12438\n",
      "1/1 [==============================] - 0s 82ms/step - loss: 13.5171 - accuracy: 0.3529 - val_loss: 0.4195 - val_accuracy: 1.0000\n",
      "Epoch 91/100\n",
      "1/1 [==============================] - ETA: 0s - loss: 3.3012 - accuracy: 0.7647\n",
      "Epoch 91: val_loss did not improve from 0.12438\n",
      "1/1 [==============================] - 0s 77ms/step - loss: 3.3012 - accuracy: 0.7647 - val_loss: 0.4282 - val_accuracy: 1.0000\n",
      "Epoch 92/100\n",
      "1/1 [==============================] - ETA: 0s - loss: 9.0872 - accuracy: 0.5294\n",
      "Epoch 92: val_loss did not improve from 0.12438\n",
      "1/1 [==============================] - 0s 74ms/step - loss: 9.0872 - accuracy: 0.5294 - val_loss: 0.4416 - val_accuracy: 1.0000\n",
      "Epoch 93/100\n",
      "1/1 [==============================] - ETA: 0s - loss: 5.8433 - accuracy: 0.6471\n",
      "Epoch 93: val_loss did not improve from 0.12438\n",
      "1/1 [==============================] - 0s 79ms/step - loss: 5.8433 - accuracy: 0.6471 - val_loss: 0.4464 - val_accuracy: 1.0000\n",
      "Epoch 94/100\n",
      "1/1 [==============================] - ETA: 0s - loss: 3.5498 - accuracy: 0.7647\n",
      "Epoch 94: val_loss did not improve from 0.12438\n",
      "1/1 [==============================] - 0s 85ms/step - loss: 3.5498 - accuracy: 0.7647 - val_loss: 0.4479 - val_accuracy: 1.0000\n",
      "Epoch 95/100\n",
      "1/1 [==============================] - ETA: 0s - loss: 5.3286 - accuracy: 0.5294\n",
      "Epoch 95: val_loss did not improve from 0.12438\n",
      "1/1 [==============================] - 0s 91ms/step - loss: 5.3286 - accuracy: 0.5294 - val_loss: 0.4412 - val_accuracy: 1.0000\n",
      "Epoch 96/100\n",
      "1/1 [==============================] - ETA: 0s - loss: 3.4971 - accuracy: 0.5882\n",
      "Epoch 96: val_loss did not improve from 0.12438\n",
      "1/1 [==============================] - 0s 80ms/step - loss: 3.4971 - accuracy: 0.5882 - val_loss: 0.4270 - val_accuracy: 1.0000\n",
      "Epoch 97/100\n",
      "1/1 [==============================] - ETA: 0s - loss: 7.9207 - accuracy: 0.6471\n",
      "Epoch 97: val_loss did not improve from 0.12438\n",
      "1/1 [==============================] - 0s 98ms/step - loss: 7.9207 - accuracy: 0.6471 - val_loss: 0.4229 - val_accuracy: 1.0000\n",
      "Epoch 98/100\n",
      "1/1 [==============================] - ETA: 0s - loss: 9.2920 - accuracy: 0.5294\n",
      "Epoch 98: val_loss did not improve from 0.12438\n",
      "1/1 [==============================] - 0s 62ms/step - loss: 9.2920 - accuracy: 0.5294 - val_loss: 0.4172 - val_accuracy: 1.0000\n",
      "Epoch 99/100\n",
      "1/1 [==============================] - ETA: 0s - loss: 3.6854 - accuracy: 0.7059\n",
      "Epoch 99: val_loss did not improve from 0.12438\n",
      "1/1 [==============================] - 0s 61ms/step - loss: 3.6854 - accuracy: 0.7059 - val_loss: 0.4311 - val_accuracy: 1.0000\n",
      "Epoch 100/100\n",
      "1/1 [==============================] - ETA: 0s - loss: 3.1102 - accuracy: 0.7647\n",
      "Epoch 100: val_loss did not improve from 0.12438\n",
      "1/1 [==============================] - 0s 89ms/step - loss: 3.1102 - accuracy: 0.7647 - val_loss: 0.4423 - val_accuracy: 1.0000\n",
      "Training completed in time:  0:00:11.386166\n"
     ]
    }
   ],
   "source": [
    "## Trianing my model\n",
    "from tensorflow.keras.callbacks import ModelCheckpoint\n",
    "from datetime import datetime\n",
    "\n",
    "num_epochs = 100\n",
    "num_batch_size = 32\n",
    "\n",
    "# checkpointer = ModelCheckpoint(filepath='saved_models/audio_classification.hdf5',\n",
    "checkpointer = ModelCheckpoint(filepath='/content/drive/MyDrive/Audio-Classification-main/UrbanSound8K/saved_models/audio_classification.hdf5',\n",
    "                               verbose=1, save_best_only=True)\n",
    "start = datetime.now()\n",
    "\n",
    "model.fit(X_train, y_train, batch_size=num_batch_size, epochs=num_epochs, validation_data=(X_test, y_test), callbacks=[checkpointer], verbose=1)\n",
    "\n",
    "\n",
    "duration = datetime.now() - start\n",
    "print(\"Training completed in time: \", duration)"
   ]
  },
  {
   "cell_type": "code",
   "execution_count": 180,
   "id": "virgin-butter",
   "metadata": {
    "colab": {
     "base_uri": "https://localhost:8080/"
    },
    "executionInfo": {
     "elapsed": 432,
     "status": "ok",
     "timestamp": 1695554739253,
     "user": {
      "displayName": "Prit Chavda",
      "userId": "08447455138167255488"
     },
     "user_tz": -330
    },
    "id": "virgin-butter",
    "outputId": "1d2bfce7-96ce-4738-b5d8-c094fb47f195"
   },
   "outputs": [
    {
     "name": "stdout",
     "output_type": "stream",
     "text": [
      "1.0\n"
     ]
    }
   ],
   "source": [
    "test_accuracy=model.evaluate(X_test,y_test,verbose=0)\n",
    "print(test_accuracy[1])"
   ]
  },
  {
   "cell_type": "code",
   "execution_count": 97,
   "id": "Q95u0b6ln7fJ",
   "metadata": {
    "colab": {
     "base_uri": "https://localhost:8080/",
     "height": 245
    },
    "executionInfo": {
     "elapsed": 1201,
     "status": "error",
     "timestamp": 1695551164448,
     "user": {
      "displayName": "Prit Chavda",
      "userId": "08447455138167255488"
     },
     "user_tz": -330
    },
    "id": "Q95u0b6ln7fJ",
    "outputId": "fcad2887-ce35-4002-e98e-acbf42e0a698"
   },
   "outputs": [
    {
     "ename": "AttributeError",
     "evalue": "ignored",
     "output_type": "error",
     "traceback": [
      "\u001b[0;31m---------------------------------------------------------------------------\u001b[0m",
      "\u001b[0;31mAttributeError\u001b[0m                            Traceback (most recent call last)",
      "\u001b[0;32m<ipython-input-97-8f591e9ea318>\u001b[0m in \u001b[0;36m<cell line: 20>\u001b[0;34m()\u001b[0m\n\u001b[1;32m     18\u001b[0m \u001b[0;34m\u001b[0m\u001b[0m\n\u001b[1;32m     19\u001b[0m \u001b[0;31m# Make predictions using the loaded model\u001b[0m\u001b[0;34m\u001b[0m\u001b[0;34m\u001b[0m\u001b[0m\n\u001b[0;32m---> 20\u001b[0;31m \u001b[0mpredicted_class\u001b[0m \u001b[0;34m=\u001b[0m \u001b[0mmodel\u001b[0m\u001b[0;34m.\u001b[0m\u001b[0mpredict_classes\u001b[0m\u001b[0;34m(\u001b[0m\u001b[0mprediction_feature\u001b[0m\u001b[0;34m)\u001b[0m\u001b[0;34m\u001b[0m\u001b[0;34m\u001b[0m\u001b[0m\n\u001b[0m\u001b[1;32m     21\u001b[0m \u001b[0;34m\u001b[0m\u001b[0m\n\u001b[1;32m     22\u001b[0m \u001b[0mprint\u001b[0m\u001b[0;34m(\u001b[0m\u001b[0;34m\"Predicted Class:\"\u001b[0m\u001b[0;34m,\u001b[0m \u001b[0mpredicted_class\u001b[0m\u001b[0;34m)\u001b[0m\u001b[0;34m\u001b[0m\u001b[0;34m\u001b[0m\u001b[0m\n",
      "\u001b[0;31mAttributeError\u001b[0m: 'Sequential' object has no attribute 'predict_classes'"
     ]
    }
   ],
   "source": [
    "import numpy as np\n",
    "from tensorflow.keras.models import load_model\n",
    "\n",
    "# Load your pre-trained model\n",
    "model = load_model(\"/content/drive/MyDrive/Audio-Classification-main/UrbanSound8K/saved_models/audio_classification.hdf5\")  # Replace with your model file path\n",
    "\n",
    "# Define the filename\n",
    "filename = \"/content/drive/MyDrive/Audio-Classification-main/UrbanSound8K/audio/fold2/33849-3-4-0.wav\"\n",
    "\n",
    "# Extract audio features (replace this with your actual feature extraction function)\n",
    "# def features_extractor(filename):\n",
    "    # Your feature extraction code here\n",
    "    # This function should return a feature vector\n",
    "\n",
    "# Extract features from the audio file\n",
    "prediction_feature = features_extractor(filename)\n",
    "prediction_feature = np.array(prediction_feature).reshape(1, -1)  # Reshape the feature vector\n",
    "\n",
    "# Make predictions using the loaded model\n",
    "predicted_class = model.predict_classes(prediction_feature)\n",
    "\n",
    "print(\"Predicted Class:\", predicted_class)\n"
   ]
  },
  {
   "cell_type": "code",
   "execution_count": 101,
   "id": "o7QdbI4ynw_R",
   "metadata": {
    "colab": {
     "base_uri": "https://localhost:8080/",
     "height": 651
    },
    "executionInfo": {
     "elapsed": 449,
     "status": "error",
     "timestamp": 1695551474547,
     "user": {
      "displayName": "Prit Chavda",
      "userId": "08447455138167255488"
     },
     "user_tz": -330
    },
    "id": "o7QdbI4ynw_R",
    "outputId": "1cbf80e8-d0db-4738-b874-b1c52d9d2770"
   },
   "outputs": [
    {
     "ename": "ValueError",
     "evalue": "ignored",
     "output_type": "error",
     "traceback": [
      "\u001b[0;31m---------------------------------------------------------------------------\u001b[0m",
      "\u001b[0;31mValueError\u001b[0m                                Traceback (most recent call last)",
      "\u001b[0;32m<ipython-input-101-ce8e615a9f3b>\u001b[0m in \u001b[0;36m<cell line: 5>\u001b[0;34m()\u001b[0m\n\u001b[1;32m      3\u001b[0m \u001b[0;31m# prediction_feature=prediction_feature.reshape(1,-1)\u001b[0m\u001b[0;34m\u001b[0m\u001b[0;34m\u001b[0m\u001b[0m\n\u001b[1;32m      4\u001b[0m \u001b[0;31m# model.predict_classes(prediction_feature)\u001b[0m\u001b[0;34m\u001b[0m\u001b[0;34m\u001b[0m\u001b[0m\n\u001b[0;32m----> 5\u001b[0;31m \u001b[0mpredict_x\u001b[0m\u001b[0;34m=\u001b[0m\u001b[0mmodel\u001b[0m\u001b[0;34m.\u001b[0m\u001b[0mpredict\u001b[0m\u001b[0;34m(\u001b[0m\u001b[0mprediction_feature\u001b[0m\u001b[0;34m)\u001b[0m\u001b[0;34m\u001b[0m\u001b[0;34m\u001b[0m\u001b[0m\n\u001b[0m\u001b[1;32m      6\u001b[0m \u001b[0mclasses_x\u001b[0m\u001b[0;34m=\u001b[0m\u001b[0mnp\u001b[0m\u001b[0;34m.\u001b[0m\u001b[0margmax\u001b[0m\u001b[0;34m(\u001b[0m\u001b[0mpredict_x\u001b[0m\u001b[0;34m,\u001b[0m\u001b[0maxis\u001b[0m\u001b[0;34m=\u001b[0m\u001b[0;36m1\u001b[0m\u001b[0;34m)\u001b[0m\u001b[0;34m\u001b[0m\u001b[0;34m\u001b[0m\u001b[0m\n\u001b[1;32m      7\u001b[0m \u001b[0;34m\u001b[0m\u001b[0m\n",
      "\u001b[0;32m/usr/local/lib/python3.10/dist-packages/keras/src/utils/traceback_utils.py\u001b[0m in \u001b[0;36merror_handler\u001b[0;34m(*args, **kwargs)\u001b[0m\n\u001b[1;32m     68\u001b[0m             \u001b[0;31m# To get the full stack trace, call:\u001b[0m\u001b[0;34m\u001b[0m\u001b[0;34m\u001b[0m\u001b[0m\n\u001b[1;32m     69\u001b[0m             \u001b[0;31m# `tf.debugging.disable_traceback_filtering()`\u001b[0m\u001b[0;34m\u001b[0m\u001b[0;34m\u001b[0m\u001b[0m\n\u001b[0;32m---> 70\u001b[0;31m             \u001b[0;32mraise\u001b[0m \u001b[0me\u001b[0m\u001b[0;34m.\u001b[0m\u001b[0mwith_traceback\u001b[0m\u001b[0;34m(\u001b[0m\u001b[0mfiltered_tb\u001b[0m\u001b[0;34m)\u001b[0m \u001b[0;32mfrom\u001b[0m \u001b[0;32mNone\u001b[0m\u001b[0;34m\u001b[0m\u001b[0;34m\u001b[0m\u001b[0m\n\u001b[0m\u001b[1;32m     71\u001b[0m         \u001b[0;32mfinally\u001b[0m\u001b[0;34m:\u001b[0m\u001b[0;34m\u001b[0m\u001b[0;34m\u001b[0m\u001b[0m\n\u001b[1;32m     72\u001b[0m             \u001b[0;32mdel\u001b[0m \u001b[0mfiltered_tb\u001b[0m\u001b[0;34m\u001b[0m\u001b[0;34m\u001b[0m\u001b[0m\n",
      "\u001b[0;32m/usr/local/lib/python3.10/dist-packages/keras/src/engine/training.py\u001b[0m in \u001b[0;36mtf__predict_function\u001b[0;34m(iterator)\u001b[0m\n\u001b[1;32m     13\u001b[0m                 \u001b[0;32mtry\u001b[0m\u001b[0;34m:\u001b[0m\u001b[0;34m\u001b[0m\u001b[0;34m\u001b[0m\u001b[0m\n\u001b[1;32m     14\u001b[0m                     \u001b[0mdo_return\u001b[0m \u001b[0;34m=\u001b[0m \u001b[0;32mTrue\u001b[0m\u001b[0;34m\u001b[0m\u001b[0;34m\u001b[0m\u001b[0m\n\u001b[0;32m---> 15\u001b[0;31m                     \u001b[0mretval_\u001b[0m \u001b[0;34m=\u001b[0m \u001b[0mag__\u001b[0m\u001b[0;34m.\u001b[0m\u001b[0mconverted_call\u001b[0m\u001b[0;34m(\u001b[0m\u001b[0mag__\u001b[0m\u001b[0;34m.\u001b[0m\u001b[0mld\u001b[0m\u001b[0;34m(\u001b[0m\u001b[0mstep_function\u001b[0m\u001b[0;34m)\u001b[0m\u001b[0;34m,\u001b[0m \u001b[0;34m(\u001b[0m\u001b[0mag__\u001b[0m\u001b[0;34m.\u001b[0m\u001b[0mld\u001b[0m\u001b[0;34m(\u001b[0m\u001b[0mself\u001b[0m\u001b[0;34m)\u001b[0m\u001b[0;34m,\u001b[0m \u001b[0mag__\u001b[0m\u001b[0;34m.\u001b[0m\u001b[0mld\u001b[0m\u001b[0;34m(\u001b[0m\u001b[0miterator\u001b[0m\u001b[0;34m)\u001b[0m\u001b[0;34m)\u001b[0m\u001b[0;34m,\u001b[0m \u001b[0;32mNone\u001b[0m\u001b[0;34m,\u001b[0m \u001b[0mfscope\u001b[0m\u001b[0;34m)\u001b[0m\u001b[0;34m\u001b[0m\u001b[0;34m\u001b[0m\u001b[0m\n\u001b[0m\u001b[1;32m     16\u001b[0m                 \u001b[0;32mexcept\u001b[0m\u001b[0;34m:\u001b[0m\u001b[0;34m\u001b[0m\u001b[0;34m\u001b[0m\u001b[0m\n\u001b[1;32m     17\u001b[0m                     \u001b[0mdo_return\u001b[0m \u001b[0;34m=\u001b[0m \u001b[0;32mFalse\u001b[0m\u001b[0;34m\u001b[0m\u001b[0;34m\u001b[0m\u001b[0m\n",
      "\u001b[0;31mValueError\u001b[0m: in user code:\n\n    File \"/usr/local/lib/python3.10/dist-packages/keras/src/engine/training.py\", line 2341, in predict_function  *\n        return step_function(self, iterator)\n    File \"/usr/local/lib/python3.10/dist-packages/keras/src/engine/training.py\", line 2327, in step_function  **\n        outputs = model.distribute_strategy.run(run_step, args=(data,))\n    File \"/usr/local/lib/python3.10/dist-packages/keras/src/engine/training.py\", line 2315, in run_step  **\n        outputs = model.predict_step(data)\n    File \"/usr/local/lib/python3.10/dist-packages/keras/src/engine/training.py\", line 2283, in predict_step\n        return self(x, training=False)\n    File \"/usr/local/lib/python3.10/dist-packages/keras/src/utils/traceback_utils.py\", line 70, in error_handler\n        raise e.with_traceback(filtered_tb) from None\n    File \"/usr/local/lib/python3.10/dist-packages/keras/src/engine/input_spec.py\", line 298, in assert_input_compatibility\n        raise ValueError(\n\n    ValueError: Input 0 of layer \"sequential\" is incompatible with the layer: expected shape=(None, 40), found shape=(None, 120)\n"
     ]
    }
   ],
   "source": [
    "filename= \"/content/drive/MyDrive/Audio-Classification-main/UrbanSound8K/audio/fold2/33849-3-4-0.wav\"\n",
    "prediction_feature=features_extractor(filename)\n",
    "prediction_feature=prediction_feature.reshape(1,-1)\n",
    "# model.predict_classes(prediction_feature)\n",
    "predict_x=model.predict(prediction_feature)\n",
    "classes_x=np.argmax(predict_x,axis=1)\n",
    "\n",
    "# predictions = (model.predict(prediction_feature) > 0.5).astype(\"int32\")\n",
    "# print(model.Object)"
   ]
  },
  {
   "cell_type": "code",
   "execution_count": 181,
   "id": "laughing-genesis",
   "metadata": {
    "colab": {
     "base_uri": "https://localhost:8080/"
    },
    "executionInfo": {
     "elapsed": 434,
     "status": "ok",
     "timestamp": 1695554747417,
     "user": {
      "displayName": "Prit Chavda",
      "userId": "08447455138167255488"
     },
     "user_tz": -330
    },
    "id": "laughing-genesis",
    "outputId": "5c2f972a-bc58-430c-93ad-53f895d3b3c9"
   },
   "outputs": [
    {
     "data": {
      "text/plain": [
       "(13, 120)"
      ]
     },
     "execution_count": 181,
     "metadata": {},
     "output_type": "execute_result"
    }
   ],
   "source": [
    "prediction_feature.shape"
   ]
  },
  {
   "cell_type": "code",
   "execution_count": 182,
   "id": "strange-driving",
   "metadata": {
    "colab": {
     "base_uri": "https://localhost:8080/"
    },
    "executionInfo": {
     "elapsed": 770,
     "status": "ok",
     "timestamp": 1695554750185,
     "user": {
      "displayName": "Prit Chavda",
      "userId": "08447455138167255488"
     },
     "user_tz": -330
    },
    "id": "strange-driving",
    "outputId": "06974a3b-dc1c-4034-fa46-07aa95ec15d6"
   },
   "outputs": [
    {
     "data": {
      "text/plain": [
       "array([-4.5314615e+02,  5.4559879e+01,  1.3782588e+01,  1.9541658e+00,\n",
       "       -1.2050936e+00, -5.9753385e+00, -9.5100908e+00, -1.0058624e+01,\n",
       "       -8.5193729e+00, -5.4231167e+00, -1.8066807e-01,  3.1218708e+00,\n",
       "       -1.0456554e+00, -6.7667394e+00, -6.8110752e+00, -8.5952673e+00,\n",
       "       -1.1634469e+01, -8.4895782e+00, -3.3697767e+00, -1.6780357e+00,\n",
       "       -1.8822579e+00, -2.0942943e+00, -2.0602691e+00, -3.0962268e-01,\n",
       "        7.0542222e-01, -1.0098896e+00, -3.8269055e+00, -4.9201202e+00,\n",
       "       -1.8283931e+00, -2.9463025e-02, -2.7216721e+00, -4.3104019e+00,\n",
       "       -3.0383835e+00, -3.0099015e+00, -4.5529213e+00, -4.2602773e+00,\n",
       "       -3.2452562e+00, -3.6567042e+00, -3.7311511e+00, -1.4649446e+00],\n",
       "      dtype=float32)"
      ]
     },
     "execution_count": 182,
     "metadata": {},
     "output_type": "execute_result"
    }
   ],
   "source": [
    "X_test[1]"
   ]
  },
  {
   "cell_type": "code",
   "execution_count": 201,
   "id": "intensive-conservative",
   "metadata": {
    "colab": {
     "base_uri": "https://localhost:8080/"
    },
    "executionInfo": {
     "elapsed": 702,
     "status": "ok",
     "timestamp": 1695555840780,
     "user": {
      "displayName": "Prit Chavda",
      "userId": "08447455138167255488"
     },
     "user_tz": -330
    },
    "id": "intensive-conservative",
    "outputId": "b768f0b5-47dc-4b63-9409-c5eaa2a2c1ab"
   },
   "outputs": [
    {
     "name": "stdout",
     "output_type": "stream",
     "text": [
      "1/1 [==============================] - 0s 34ms/step\n"
     ]
    }
   ],
   "source": [
    "# model.predict_classes(X_test)\n",
    "predict_x=model.predict(X_test)\n",
    "classes_x=np.argmax(predict_x,axis=1)"
   ]
  },
  {
   "cell_type": "markdown",
   "id": "advanced-booth",
   "metadata": {
    "id": "advanced-booth"
   },
   "source": [
    "### Testing Some Test Audio Data\n",
    "\n",
    "Steps\n",
    "- Preprocess the new audio data\n",
    "- predict the classes\n",
    "- Invere transform your Predicted Label"
   ]
  },
  {
   "cell_type": "code",
   "execution_count": 204,
   "id": "chubby-newsletter",
   "metadata": {
    "colab": {
     "base_uri": "https://localhost:8080/"
    },
    "executionInfo": {
     "elapsed": 1218,
     "status": "ok",
     "timestamp": 1695556012278,
     "user": {
      "displayName": "Prit Chavda",
      "userId": "08447455138167255488"
     },
     "user_tz": -330
    },
    "id": "chubby-newsletter",
    "outputId": "aab5f2f5-3f42-4769-d183-10d726264832",
    "scrolled": true
   },
   "outputs": [
    {
     "name": "stdout",
     "output_type": "stream",
     "text": [
      "[5 4 4 ... 1 2 3]\n",
      "1/1 [==============================] - 0s 43ms/step\n",
      "[[1 0]]\n",
      "[0]\n",
      "['Dhruv Chavda']\n"
     ]
    }
   ],
   "source": [
    "# filename=\"/content/drive/MyDrive/Audio-Classification-main/UrbanSound8K/audio/man/fold2/dhruv1.wav\"\n",
    "filename=\"/content/drive/MyDrive/Audio-Classification-main/UrbanSound8K/audio/som.wav\"\n",
    "\n",
    "import wave\n",
    "# Load an audio file\n",
    "y, sr = librosa.load(audio_file, sr=None)  # Use sr=None to keep the original sample rate\n",
    "with wave.open(filename, 'rb') as wf:\n",
    "    sr = wf.getframerate()\n",
    "\n",
    "\n",
    "audio, sample_rate = librosa.load(filename)\n",
    "mfccs_features = librosa.feature.mfcc(y=audio, sr=sr, n_mfcc=40)\n",
    "mfccs_scaled_features = np.mean(mfccs_features.T,axis=0)\n",
    "\n",
    "# print(mfccs_scaled_features)\n",
    "mfccs_scaled_features=mfccs_scaled_features.reshape(1,-1)\n",
    "# print(mfccs_scaled_features)\n",
    "# print(mfccs_scaled_features.shape)\n",
    "# predicted_label=model.predict_classes(mfccs_scaled_features)\n",
    "print(predicted_label)\n",
    "predictions = (model.predict(mfccs_scaled_features) > 0.5).astype(\"int32\")\n",
    "predictionss = -1;\n",
    "value = 0;\n",
    "for x in predictions:\n",
    "  for y in x:\n",
    "    # print(y , \"\\n\")\n",
    "    predictionss+=1\n",
    "    if y==1 :\n",
    "      value = 1;\n",
    "      break\n",
    "\n",
    "# predictions = [0 0 0 1 0 0 0 0 0 0]\n",
    "if value == 1:\n",
    "  print(predictions)\n",
    "  print([predictionss])\n",
    "  prediction_class = labelencoder.inverse_transform([predictionss])\n",
    "  print(prediction_class)\n",
    "else:\n",
    "  print(\"not maching any one\");"
   ]
  },
  {
   "cell_type": "code",
   "execution_count": null,
   "id": "inclusive-theorem",
   "metadata": {
    "id": "inclusive-theorem"
   },
   "outputs": [],
   "source": []
  }
 ],
 "metadata": {
  "colab": {
   "provenance": []
  },
  "kernelspec": {
   "display_name": "Python 3 (ipykernel)",
   "language": "python",
   "name": "python3"
  },
  "language_info": {
   "codemirror_mode": {
    "name": "ipython",
    "version": 3
   },
   "file_extension": ".py",
   "mimetype": "text/x-python",
   "name": "python",
   "nbconvert_exporter": "python",
   "pygments_lexer": "ipython3",
   "version": "3.11.4"
  }
 },
 "nbformat": 4,
 "nbformat_minor": 5
}
